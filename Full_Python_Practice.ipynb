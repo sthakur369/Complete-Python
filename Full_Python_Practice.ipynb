{
  "nbformat": 4,
  "nbformat_minor": 0,
  "metadata": {
    "colab": {
      "name": "Full Python Practice.ipynb",
      "provenance": [],
      "collapsed_sections": [],
      "toc_visible": true
    },
    "kernelspec": {
      "name": "python3",
      "display_name": "Python 3"
    },
    "language_info": {
      "name": "python"
    }
  },
  "cells": [
    {
      "cell_type": "markdown",
      "source": [
        "# **Hello World**"
      ],
      "metadata": {
        "id": "PdbQbX8VY3zO"
      }
    },
    {
      "cell_type": "code",
      "source": [
        "print('hello')\n",
        "print(\"hello\")\n",
        "\n",
        "#print('comment section')\n"
      ],
      "metadata": {
        "id": "-6DL3Wj2Y79y",
        "colab": {
          "base_uri": "https://localhost:8080/"
        },
        "outputId": "60aa80f7-53c2-498b-8e81-50eea8e81ad1"
      },
      "execution_count": null,
      "outputs": [
        {
          "output_type": "stream",
          "name": "stdout",
          "text": [
            "hello\n",
            "hello\n"
          ]
        }
      ]
    },
    {
      "cell_type": "markdown",
      "source": [
        "# **Variables**"
      ],
      "metadata": {
        "id": "QNeQPeISbiXT"
      }
    },
    {
      "cell_type": "code",
      "source": [
        "x = 4\n",
        "y = \"'hi'\"\n",
        "z = '\"hi\"'\n",
        "print(x)\n",
        "print(y)\n",
        "print(z)"
      ],
      "metadata": {
        "id": "r8QLMg83br4U",
        "colab": {
          "base_uri": "https://localhost:8080/"
        },
        "outputId": "98a33534-423e-447a-b203-ecf62f0392ba"
      },
      "execution_count": null,
      "outputs": [
        {
          "output_type": "stream",
          "name": "stdout",
          "text": [
            "4\n",
            "'hi'\n",
            "\"hi\"\n"
          ]
        }
      ]
    },
    {
      "cell_type": "markdown",
      "source": [
        "*CASTING*"
      ],
      "metadata": {
        "id": "yRfoWG5ScVv2"
      }
    },
    {
      "cell_type": "code",
      "source": [
        "a = int(5)\n",
        "A = 'a is different from A'\n",
        "print(a)\n",
        "print(A)\n",
        "print(type(a), type(x), '\\nhelo')\n",
        "\n",
        "#any kinda casting is posssible"
      ],
      "metadata": {
        "colab": {
          "base_uri": "https://localhost:8080/"
        },
        "id": "U9GWPaUfcX9b",
        "outputId": "f67acb3b-69a8-4932-a411-947f5b03ce26"
      },
      "execution_count": null,
      "outputs": [
        {
          "output_type": "stream",
          "name": "stdout",
          "text": [
            "5\n",
            "a is different from A\n",
            "<class 'int'> <class 'int'> \n",
            "helo\n"
          ]
        }
      ]
    },
    {
      "cell_type": "markdown",
      "source": [
        "*VARIABLE NAME TYPE*"
      ],
      "metadata": {
        "id": "8-0htLWBdfyT"
      }
    },
    {
      "cell_type": "code",
      "source": [
        "#camel case\n",
        "newVar = \"hi\"\n",
        "\n",
        "#pascal case\n",
        "NewVar = 'hi'\n",
        "\n",
        "#snake\n",
        "new_var = 'hi'\n",
        "\n",
        "print(newVar, NewVar, new_var)"
      ],
      "metadata": {
        "colab": {
          "base_uri": "https://localhost:8080/"
        },
        "id": "4gp0fXI4dltq",
        "outputId": "d19fb4e0-ef51-4877-81b2-09458b8eb718"
      },
      "execution_count": null,
      "outputs": [
        {
          "output_type": "stream",
          "name": "stdout",
          "text": [
            "hi hi hi\n"
          ]
        }
      ]
    },
    {
      "cell_type": "markdown",
      "source": [
        "*VARIABLE ASSIGN*"
      ],
      "metadata": {
        "id": "lvVIorv6ePFG"
      }
    },
    {
      "cell_type": "code",
      "source": [
        "l= m= n= 'same'\n",
        "print(l,m,n) \n",
        "\n",
        "l, m, n = 'newVal_L', 'newVal_M', 'newVal_N'\n",
        "print(l,m,n) \n"
      ],
      "metadata": {
        "colab": {
          "base_uri": "https://localhost:8080/"
        },
        "id": "sLCevhIyeSQV",
        "outputId": "1ee2f71e-c2de-4649-aabb-8bbd244a1950"
      },
      "execution_count": null,
      "outputs": [
        {
          "output_type": "stream",
          "name": "stdout",
          "text": [
            "same same same\n",
            "newVal_L newVal_M newVal_N\n"
          ]
        }
      ]
    },
    {
      "cell_type": "markdown",
      "source": [
        "*OUTPUT*"
      ],
      "metadata": {
        "id": "PxgXd1KEfVoy"
      }
    },
    {
      "cell_type": "code",
      "source": [
        "print('value of L is: '+l)\n",
        "print('value of M is: \\n'+m)\n",
        "print('\\nCombined value of L&M: '+(l + m))\n",
        "print('Combined value of M&N: \\n'+m +' && '+ n)"
      ],
      "metadata": {
        "colab": {
          "base_uri": "https://localhost:8080/"
        },
        "id": "2orK3w8HfZKT",
        "outputId": "7152b3b7-070c-4cf4-cb6c-eb790df42790"
      },
      "execution_count": null,
      "outputs": [
        {
          "output_type": "stream",
          "name": "stdout",
          "text": [
            "value of L is: newVal_L\n",
            "value of M is: \n",
            "newVal_M\n",
            "\n",
            "Combined value of L&M: newVal_LnewVal_M\n",
            "Combined value of M&N: \n",
            "newVal_M && newVal_N\n"
          ]
        }
      ]
    },
    {
      "cell_type": "markdown",
      "source": [
        "*GLOABAL & LOCAL VARIABLE*"
      ],
      "metadata": {
        "id": "ak-Gi-DWjHyo"
      }
    },
    {
      "cell_type": "code",
      "source": [
        "x = 10\n",
        "y = 20\n",
        "def fun():\n",
        "  x = 100\n",
        "  y = 200\n",
        "  z = x + y\n",
        "  print('Local Value of Z: ',z)\n",
        "\n",
        "fun()\n",
        "z = x + y\n",
        "print('Global Value of Z: ',z)"
      ],
      "metadata": {
        "colab": {
          "base_uri": "https://localhost:8080/"
        },
        "id": "vUgqJdMfjO6o",
        "outputId": "57b05bc8-ec0d-4c46-c5db-b293d3f7871d"
      },
      "execution_count": null,
      "outputs": [
        {
          "output_type": "stream",
          "name": "stdout",
          "text": [
            "Local Value of Z:  300\n",
            "Global Value of Z:  30\n"
          ]
        }
      ]
    },
    {
      "cell_type": "code",
      "source": [
        "a = 10\n",
        "b = 20\n",
        "def fun():\n",
        "  global x\n",
        "  x = 100\n",
        "  global y\n",
        "  y = 200\n",
        "  z = x + y\n",
        "  print('Local Value of Z: ',z)\n",
        "\n",
        "fun()\n",
        "z = x + y\n",
        "print('Global Value of Z: ',z)"
      ],
      "metadata": {
        "colab": {
          "base_uri": "https://localhost:8080/"
        },
        "id": "8IKR2feMmuLj",
        "outputId": "716ea448-4396-4641-e93a-2d50c6a7982e"
      },
      "execution_count": null,
      "outputs": [
        {
          "output_type": "stream",
          "name": "stdout",
          "text": [
            "Local Value of Z:  300\n",
            "Global Value of Z:  300\n"
          ]
        }
      ]
    },
    {
      "cell_type": "markdown",
      "source": [
        "# **DataTypes**"
      ],
      "metadata": {
        "id": "KztPDRcmnvua"
      }
    },
    {
      "cell_type": "code",
      "source": [
        "#string\n",
        "x = 'hi'\n",
        "print(x,'-:- ', type(x))\n",
        "\n",
        "#complex\n",
        "x = 2.5j\n",
        "print(x,'-:- ', type(x))\n",
        "\n",
        "#we have only 3 brackets: (), [], {}\n",
        "\n",
        "#tuple: cute name therfore brackets are also cute '()'\n",
        "x = ('a','b',5, 5, 'a', 'A', 5.6, 5j)\n",
        "print(x,'-:- ', type(x))\n",
        "\n",
        "#set: we remember from maths classs, set are always in '{}'\n",
        "x = {'a','b',5, 5, 'a', 'A', 5.6, 5j}\n",
        "print(x,'-:- ', type(x))\n",
        "\n",
        "#list: we have only 1 bracket left, '[]'\n",
        "x = ['a','b',5, 5, 'a', 'A', 5.6, 5j]\n",
        "print(x,'-:- ', type(x))\n",
        "\n",
        "#dict: always in key value pair and '{}'\n",
        "x = {'country' : ('IN', 'PK', 'NP','NP'),'city' : ('DL','DL', 'CH', 'BL'),'pin': (1,1,2,3)}\n",
        "print('\\n',x,'-:- ', type(x))\n",
        "\n",
        "x = {'country' : ['IN', 'PK', 'NP','NP'],'city' : ['DL','DL', 'CH', 'BL'],'pin': [1,1,2,3]}\n",
        "print('\\n',x,'-:- ', type(x))\n",
        "\n",
        "x = {'country' : {'IN', 'PK', 'NP','NP'},'city' : {'DL', 'CH', 'BL','DL'},'pin': {1,1,2,3}}\n",
        "print('\\n',x,'-:- ', type(x))\n",
        "\n",
        "#range\n",
        "x = range(5)\n",
        "print('\\n',x,'-:- ', type(x))\n",
        "\n",
        "#frozenset\n",
        "x = frozenset({'a', 'b', 4}) #hard and fast rule for brackets\n",
        "print('\\n',x,'-:- ', type(x))\n",
        "\n",
        "x = b'ok' #b has to be there in starting only, it will make it binary, but works only in string, not on other datatypr\n",
        "print('\\n',x,'-:- ', type(x))\n",
        "\n",
        "\n"
      ],
      "metadata": {
        "id": "EuycVEOPn4Pq",
        "colab": {
          "base_uri": "https://localhost:8080/"
        },
        "outputId": "e30488cd-945c-4583-f0c0-7dbc82e6f4fd"
      },
      "execution_count": null,
      "outputs": [
        {
          "output_type": "stream",
          "name": "stdout",
          "text": [
            "hi -:-  <class 'str'>\n",
            "2.5j -:-  <class 'complex'>\n",
            "('a', 'b', 5, 5, 'a', 'A', 5.6, 5j) -:-  <class 'tuple'>\n",
            "{'a', 5.6, 5, 'A', 5j, 'b'} -:-  <class 'set'>\n",
            "['a', 'b', 5, 5, 'a', 'A', 5.6, 5j] -:-  <class 'list'>\n",
            "\n",
            " {'country': ('IN', 'PK', 'NP', 'NP'), 'city': ('DL', 'DL', 'CH', 'BL'), 'pin': (1, 1, 2, 3)} -:-  <class 'dict'>\n",
            "\n",
            " {'country': ['IN', 'PK', 'NP', 'NP'], 'city': ['DL', 'DL', 'CH', 'BL'], 'pin': [1, 1, 2, 3]} -:-  <class 'dict'>\n",
            "\n",
            " {'country': {'IN', 'NP', 'PK'}, 'city': {'CH', 'DL', 'BL'}, 'pin': {1, 2, 3}} -:-  <class 'dict'>\n",
            "\n",
            " range(0, 5) -:-  <class 'range'>\n",
            "\n",
            " frozenset({'a', 'b', 4}) -:-  <class 'frozenset'>\n",
            "\n",
            " b'ok' -:-  <class 'bytes'>\n"
          ]
        }
      ]
    },
    {
      "cell_type": "markdown",
      "source": [
        "*CONVERT DATATYPE*"
      ],
      "metadata": {
        "id": "_QPP2vJqwxlA"
      }
    },
    {
      "cell_type": "code",
      "source": [
        "x = 3\n",
        "x = float(x)\n",
        "print(x,'-:- ', type(x))\n",
        "\n",
        "y = 3.4\n",
        "y = int(y)\n",
        "print('\\n',y,'-:- ', type(y))\n",
        "\n",
        "z = 3.3\n",
        "z = complex(z) #int,float to complex: POSSIBLE. Comlex to int,float: NOT\n",
        "print('\\n',z,'-:- ', type(z))\n",
        "\n",
        "#display any random no.\n",
        "import random as rd\n",
        "print(rd.randrange(1,20))\n",
        "\n",
        "x = '9'\n",
        "x = str(x)\n",
        "print('\\n',x, ':-', type(x))"
      ],
      "metadata": {
        "colab": {
          "base_uri": "https://localhost:8080/"
        },
        "id": "b6R2O_ULw1kt",
        "outputId": "39092471-5b5e-473a-e29b-57aae58191e8"
      },
      "execution_count": null,
      "outputs": [
        {
          "output_type": "stream",
          "name": "stdout",
          "text": [
            "3.0 -:-  <class 'float'>\n",
            "\n",
            " 3 -:-  <class 'int'>\n",
            "\n",
            " (3.3+0j) -:-  <class 'complex'>\n",
            "6\n",
            "\n",
            " 9 :- <class 'str'>\n"
          ]
        }
      ]
    },
    {
      "cell_type": "markdown",
      "source": [
        "# **Strings**"
      ],
      "metadata": {
        "id": "ebPpRXq10icc"
      }
    },
    {
      "cell_type": "code",
      "source": [
        "#multi line string: can use either ''' or  \"\"\"\n",
        "x = \"\"\"My name is shubham thakur.\n",
        "I live in INdia.\"\"\"\n",
        "print(x)\n",
        "\n",
        "#strings are actually array represantaiotn in python\n",
        "x = 'shubham thakur'\n",
        "print('\\nFirst charater of X:', x[0], '\\nLast char: ',x[len(x)-1], '\\ntotal Length:', len(x))"
      ],
      "metadata": {
        "colab": {
          "base_uri": "https://localhost:8080/"
        },
        "id": "PmDjYLp-0mz-",
        "outputId": "fdcd0ee1-e90f-4e1b-bd07-5c53153229e0"
      },
      "execution_count": null,
      "outputs": [
        {
          "output_type": "stream",
          "name": "stdout",
          "text": [
            "My name is shubham thakur.\n",
            "I live in INdia.\n",
            "\n",
            "First charater of X: s \n",
            "Last char:  r \n",
            "total Length: 14\n"
          ]
        }
      ]
    },
    {
      "cell_type": "markdown",
      "source": [
        "***LOOP IN STRING***"
      ],
      "metadata": {
        "id": "nDAyIImB2oxl"
      }
    },
    {
      "cell_type": "code",
      "source": [
        ""
      ],
      "metadata": {
        "id": "QJPELBJe2rou"
      },
      "execution_count": null,
      "outputs": []
    },
    {
      "cell_type": "markdown",
      "source": [
        ""
      ],
      "metadata": {
        "id": "OAFqTUDx2rzs"
      }
    },
    {
      "cell_type": "markdown",
      "source": [
        "**CHECK IN STRING**"
      ],
      "metadata": {
        "id": "J1ShAEqC5iv2"
      }
    },
    {
      "cell_type": "code",
      "source": [
        "#checking is case senstive\n",
        "x = 'india is my cOuntry!'\n",
        "y = 'shubham'\n",
        "z = (23452, 34,54)\n",
        "print((34) in z) #T\n",
        "print((3) in z) #F    #if RHS is tuple, LHS will has to be tuple\n",
        "\n",
        "\n",
        "#print(('india','ind') in x) #ERROR: 'in <string>' requires string as left operand, not tuple\n",
        "print('indi' in x)\n",
        "print('i' in x)\n",
        "print('India' in x)\n",
        "print('country' in x)\n",
        "print('o' in x)\n",
        "print('O' in x)\n",
        "print('x', 'c', 'O'  in x) #\n",
        "print('****','shubha' in y,x) #it means 'in' works only on imediate left string and imediate right string, not more than one string\n",
        "\n",
        "#check if not\n",
        "print('\\ncheck if not:')\n",
        "print('shubhiam' not in x)\n"
      ],
      "metadata": {
        "colab": {
          "base_uri": "https://localhost:8080/"
        },
        "id": "UR2tpnUH5kkd",
        "outputId": "9a1e23be-ba6b-4aae-b02d-db54fbe7b982"
      },
      "execution_count": null,
      "outputs": [
        {
          "output_type": "stream",
          "name": "stdout",
          "text": [
            "True\n",
            "False\n",
            "True\n",
            "True\n",
            "False\n",
            "False\n",
            "False\n",
            "True\n",
            "x c True\n",
            "**** True india is my cOuntry!\n",
            "\n",
            "check if not:\n",
            "True\n"
          ]
        }
      ]
    },
    {
      "cell_type": "markdown",
      "source": [
        "***SLICING***"
      ],
      "metadata": {
        "id": "3sVgvtz995Qw"
      }
    },
    {
      "cell_type": "code",
      "source": [
        "x = 'shubham'\n",
        "print(x[::-1])   #reverse\n",
        "print(x[2:5])  #x[2,5] will give error \n",
        "print(x[5:2]) #no output\n",
        "print(x[1:]) #start from 1(included), ends at last point\n",
        "print(x[:5]) #starts from starting point, till 5(not included)\n",
        "\n",
        "print(x[-5:-2]) #here it will look from backward, so m=-1, a= -2 etc... so -5 is u(included) and -2 is a(not included therfore, till h)\n",
        "#ulta dekhta hai ye lein ulta chlta ni h ye, reverse string not possible like this\n",
        "\n"
      ],
      "metadata": {
        "colab": {
          "base_uri": "https://localhost:8080/"
        },
        "id": "ebkTi7Nk96uD",
        "outputId": "995d3dcd-712e-40ee-f223-bea70e932ca8"
      },
      "execution_count": null,
      "outputs": [
        {
          "output_type": "stream",
          "name": "stdout",
          "text": [
            "mahbuhs\n",
            "ubh\n",
            "\n",
            "hubham\n",
            "shubh\n",
            "ubh\n"
          ]
        }
      ]
    },
    {
      "cell_type": "markdown",
      "source": [
        "***MODIFY STRING***"
      ],
      "metadata": {
        "id": "wMK7oN2xDMQx"
      }
    },
    {
      "cell_type": "code",
      "source": [
        "x = 'shubhAm ThakurX X X XX 6'\n",
        "print(x.upper()) #covert everything to uppercase\n",
        "print(x.lower()) #covert everything to lower\n",
        "print(x.capitalize()) #convert only 1st character as uppercase\n",
        "print(x.strip()) #if ' hi ' then it will return 'hi', remove extra white space, but doesn't remove space b/w 2 strings/char\n",
        "print(x.replace('shubhAm', 'Y'))\n",
        "print(x.replace('X', 'Y'))\n",
        "\n",
        "print('\\n***NEW VARIABLE Y***')\n",
        "y = x.split(' ') #it returns as LIST as whole but each value is actually string ,even 6 is also string\n",
        "print(y, type(y), len(y))\n",
        "#if we put ',' then o/p: ['shubhAm ThakurX X X XX 6'] <class 'list'> 1\n",
        "print(y[2], type(y[2]))\n",
        "print(y[0][0]) #bc, y[0] = shubham and shubham is actually str, and we can acceess it as array. so y[0][0] is first letter, S.\n"
      ],
      "metadata": {
        "colab": {
          "base_uri": "https://localhost:8080/"
        },
        "id": "rLlooJX8DOZL",
        "outputId": "fef23178-a65f-4182-d8ee-729805f16565"
      },
      "execution_count": null,
      "outputs": [
        {
          "output_type": "stream",
          "name": "stdout",
          "text": [
            "SHUBHAM THAKURX X X XX 6\n",
            "shubham thakurx x x xx 6\n",
            "Shubham thakurx x x xx 6\n",
            "shubhAm ThakurX X X XX 6\n",
            "Y ThakurX X X XX 6\n",
            "shubhAm ThakurY Y Y YY 6\n",
            "\n",
            "***NEW VARIABLE Y***\n",
            "['shubhAm', 'ThakurX', 'X', 'X', 'XX', '6'] <class 'list'> 6\n",
            "X <class 'str'>\n",
            "s\n"
          ]
        }
      ]
    },
    {
      "cell_type": "markdown",
      "source": [
        "***CONCAT***"
      ],
      "metadata": {
        "id": "c1zgJ8SSXffe"
      }
    },
    {
      "cell_type": "code",
      "source": [
        "x = 'shubham'\n",
        "y = 'thakur'\n",
        "print(x+y)\n",
        "#to add space b/w them\n",
        "print(x+' '+y)\n",
        "\n",
        "#if: x='a' & y='1', noError. If y=1, Error. combine str and int isn't allowed\n",
        "\n"
      ],
      "metadata": {
        "id": "4mSeLN05Xhzp",
        "colab": {
          "base_uri": "https://localhost:8080/"
        },
        "outputId": "3f2c333e-98b5-4c09-d9e1-c6a741d3a344"
      },
      "execution_count": null,
      "outputs": [
        {
          "output_type": "stream",
          "name": "stdout",
          "text": [
            "shubhamthakur\n",
            "shubham thakur\n"
          ]
        }
      ]
    },
    {
      "cell_type": "markdown",
      "source": [
        "***FORMAT***"
      ],
      "metadata": {
        "id": "JYUSREVEeTms"
      }
    },
    {
      "cell_type": "code",
      "source": [
        "x = int(input('Enter marks: ')) #if we don't specify 'int', automatically it will taken as string, even if you enter int value\n",
        "y = input(\"ENter subject name: \")\n",
        "#z = 'Ram score in '+y+ ' is '+x   #its error bc concat of str and int isn't allowed, one way we have is..\n",
        "\n",
        "z ='Ram score in '+y+ ' is {}'\n",
        "print(z.format(x)) #no error\n",
        "\n",
        "#one other way to use format is..\n",
        "\n",
        "a = 5\n",
        "b = 2.6\n",
        "c = 645\n",
        "z = 'value of a is {}, b is {}, c is {}'\n",
        "print(z.format(a,b,c))\n",
        "\n",
        "#and one more..\n",
        "\n",
        "a = 5\n",
        "b = 2.6\n",
        "c = 645\n",
        "z = 'value of c is {2}, a is {0}, b is {1}'\n",
        "print(z.format(a,b,c))\n",
        "\n",
        "\n"
      ],
      "metadata": {
        "colab": {
          "base_uri": "https://localhost:8080/"
        },
        "id": "mpUrkc5teX9o",
        "outputId": "954b6fe3-eb52-4174-e456-a9e8d8e145a1"
      },
      "execution_count": null,
      "outputs": [
        {
          "output_type": "stream",
          "name": "stdout",
          "text": [
            "Enter marks: 5\n",
            "ENter subject name: dhib\n",
            "Ram score in dhib is 5\n",
            "value of a is 5, b is 2.6, c is 645\n",
            "value of c is 645, a is 5, b is 2.6\n"
          ]
        }
      ]
    },
    {
      "cell_type": "markdown",
      "source": [
        "***ESCAPE CHAR***"
      ],
      "metadata": {
        "id": "-VroeISwhb_j"
      }
    },
    {
      "cell_type": "code",
      "source": [
        "#if we want to print: It's raining! or \"i'am new here\", it will give errror, bc of ' in it's\n",
        "print('It\\'s raining!') \n",
        "print(\"\\\"I\\'am new here\\\"\") # \\ handles single and double quotes both\n",
        "#\\n we know for new line\n",
        "#\\t for tab\n",
        "print('hello\\bworld') #its backspace, delete previous value\n",
        "print('\\444') #return octal no. syntax  is: \\ followd by three ints\n",
        "print('\\x48\\x65\\x6c\\x6c\\x6f') #return hex no. syntax is: \\x followed by hex value. it will return result as readable format\n",
        "\n"
      ],
      "metadata": {
        "colab": {
          "base_uri": "https://localhost:8080/"
        },
        "id": "NUTeBGKPheVG",
        "outputId": "15872806-9fdf-4d61-e31c-bdbf337f75b6"
      },
      "execution_count": null,
      "outputs": [
        {
          "output_type": "stream",
          "name": "stdout",
          "text": [
            "It's raining!\n",
            "\"I'am new here\"\n",
            "hello\bworld\n",
            "Ĥ\n",
            "Hello\n"
          ]
        }
      ]
    },
    {
      "cell_type": "markdown",
      "source": [
        "***STRING METHODS***"
      ],
      "metadata": {
        "id": "6o0yAAz1mNXp"
      }
    },
    {
      "cell_type": "code",
      "source": [
        "#https://www.w3schools.com/python/python_ref_string.asp"
      ],
      "metadata": {
        "id": "h2z-S7UnmQ9k"
      },
      "execution_count": null,
      "outputs": []
    },
    {
      "cell_type": "markdown",
      "source": [
        "# **BOOLEAN VALUES**"
      ],
      "metadata": {
        "id": "PHUdHWFIz700"
      }
    },
    {
      "cell_type": "code",
      "source": [
        "print('abc' == 'abc') #true\n",
        "print('aBc' == 'abc') #false\n",
        "print('6' == 6) #false\n",
        "\n",
        "print(bool())\n",
        "print(bool(15)) #all the values are true but if it's empty or we enter '0' then 'false', if any content is there, 'true'\n",
        "\n",
        "#false value\n",
        "x = []\n",
        "y = {}\n",
        "z = ()\n",
        "a = \"\"\n",
        "b = None\n",
        "c = 0\n",
        "d = False\n",
        "\n",
        "print(bool(x), bool(y), bool(z), bool(a), bool(b), bool(c), bool(d))\n",
        "\n",
        "#if function returns 0 then flase\n",
        "def fun():\n",
        "  return 0\n",
        "print(bool(fun()))"
      ],
      "metadata": {
        "colab": {
          "base_uri": "https://localhost:8080/"
        },
        "id": "erZyrSjD0Dmd",
        "outputId": "1f3f55d5-d379-470a-f1bb-d1ae8893da7a"
      },
      "execution_count": null,
      "outputs": [
        {
          "output_type": "stream",
          "name": "stdout",
          "text": [
            "True\n",
            "False\n",
            "False\n",
            "False\n",
            "True\n",
            "False False False False False False False\n",
            "False\n"
          ]
        }
      ]
    },
    {
      "cell_type": "markdown",
      "source": [
        "***isinstance() function***"
      ],
      "metadata": {
        "id": "QtLTyQVT2qZs"
      }
    },
    {
      "cell_type": "code",
      "source": [
        "#it checks the value is of certain datatype or not\n",
        "x = 20\n",
        "print(isinstance(x,int))\n",
        "print(isinstance(x,str))"
      ],
      "metadata": {
        "colab": {
          "base_uri": "https://localhost:8080/"
        },
        "id": "Kd9cMmt62u7u",
        "outputId": "405e588c-7b98-4d90-e106-1f5ae545b364"
      },
      "execution_count": null,
      "outputs": [
        {
          "output_type": "stream",
          "name": "stdout",
          "text": [
            "True\n",
            "False\n"
          ]
        }
      ]
    },
    {
      "cell_type": "markdown",
      "source": [
        "# **OPERATORS**"
      ],
      "metadata": {
        "id": "yOykMz--3BUO"
      }
    },
    {
      "cell_type": "markdown",
      "source": [
        "***Arithmetic***"
      ],
      "metadata": {
        "id": "Y1o3IlaQ3RyV"
      }
    },
    {
      "cell_type": "code",
      "source": [
        "x = 5\n",
        "y = 2\n",
        "print(x%y)\n",
        "print(x**y) #5*5\n",
        "print(y**x) #2*2*2*2*2\n",
        "print(x//y) #5/2 is 2.5 so it will give int value but lower the value, i.e. 2"
      ],
      "metadata": {
        "colab": {
          "base_uri": "https://localhost:8080/"
        },
        "id": "kTH2WKLU3VVn",
        "outputId": "a4854f01-adb2-4109-9f98-86eecfc291d8"
      },
      "execution_count": null,
      "outputs": [
        {
          "output_type": "stream",
          "name": "stdout",
          "text": [
            "1\n",
            "25\n",
            "32\n",
            "2\n"
          ]
        }
      ]
    },
    {
      "cell_type": "markdown",
      "source": [
        "***Assignment***"
      ],
      "metadata": {
        "id": "cAfFJZYg4KjL"
      }
    },
    {
      "cell_type": "code",
      "source": [
        "x = 5\n",
        "x += 3 #direct print will give error # it means x = x+3\n",
        "print(x)\n",
        "\n",
        "#same will go for -=, *=, /=, **= %=, //=, ^= etc..\n"
      ],
      "metadata": {
        "colab": {
          "base_uri": "https://localhost:8080/"
        },
        "id": "5HzsfUiX4NK6",
        "outputId": "23a8184d-3b33-4a00-c0f2-7b5f9111f279"
      },
      "execution_count": null,
      "outputs": [
        {
          "output_type": "stream",
          "name": "stdout",
          "text": [
            "8\n"
          ]
        }
      ]
    },
    {
      "cell_type": "markdown",
      "source": [
        "***Logical***"
      ],
      "metadata": {
        "id": "kCPztuhp6N4H"
      }
    },
    {
      "cell_type": "code",
      "source": [
        "#and\n",
        "x = 5\n",
        "y = 6\n",
        "z = 88\n",
        "print(x<6 and z>x and z>y)\n",
        "print(z>x or x>z or y>z)\n",
        "print(not(z>x or x>z or y>z)) #value is same as or, it returns oppostie result"
      ],
      "metadata": {
        "colab": {
          "base_uri": "https://localhost:8080/"
        },
        "id": "w0lDuaMt6Qbb",
        "outputId": "1e2648e7-e664-4b81-f12c-ecc4dcf7b115"
      },
      "execution_count": null,
      "outputs": [
        {
          "output_type": "stream",
          "name": "stdout",
          "text": [
            "True\n",
            "True\n",
            "False\n"
          ]
        }
      ]
    },
    {
      "cell_type": "markdown",
      "source": [
        "***Identity == vs is***"
      ],
      "metadata": {
        "id": "VuFyGqts7F0C"
      }
    },
    {
      "cell_type": "code",
      "source": [
        "x = 2\n",
        "y = 2\n",
        "print(x is y) #true\n",
        "print( x == y) #true\n",
        "\n",
        "x = 10\n",
        "y = 20\n",
        "print(x is y) #false\n",
        "print( x == y) #false\n",
        "\n",
        "x = '10'\n",
        "y = 10\n",
        "print(x is y) #false\n",
        "print( x == y) #false\n",
        "\n",
        "x = 'abc'\n",
        "y = 'abc'\n",
        "print(x is y) #true\n",
        "print( x == y) #true\n",
        "\n",
        "x = 'aBc'\n",
        "y = 'abc'\n",
        "print(x is y) #false\n",
        "print( x == y) #false\n",
        "\n",
        "x = 5\n",
        "y = x\n",
        "print(x is y) #true\n",
        "print( x == y) #true\n",
        "\n",
        "x = ['a', 'b']\n",
        "y = ['a', 'b']\n",
        "print(x is y) #false\n",
        "print( x == y) #true\n",
        "#for ==, both content and type has to be same, even case senstive\n",
        "#for is, both content and type has to be same, even case senstive AND  object has to be same"
      ],
      "metadata": {
        "colab": {
          "base_uri": "https://localhost:8080/"
        },
        "id": "EN8P0nv17HoU",
        "outputId": "a65b576c-bc29-4430-fda8-f4c5a26c3192"
      },
      "execution_count": null,
      "outputs": [
        {
          "output_type": "stream",
          "name": "stdout",
          "text": [
            "True\n",
            "True\n",
            "False\n",
            "False\n",
            "False\n",
            "False\n",
            "True\n",
            "True\n",
            "False\n",
            "False\n",
            "True\n",
            "True\n",
            "False\n",
            "True\n"
          ]
        }
      ]
    },
    {
      "cell_type": "markdown",
      "source": [
        "***Bit-wise Operator***"
      ],
      "metadata": {
        "id": "jhaA2yKcXpaz"
      }
    },
    {
      "cell_type": "code",
      "source": [
        ""
      ],
      "metadata": {
        "id": "Yi9DwwtpXuA-"
      },
      "execution_count": null,
      "outputs": []
    },
    {
      "cell_type": "markdown",
      "source": [
        "# **LIST**"
      ],
      "metadata": {
        "id": "lSR8ir_xXwBF"
      }
    },
    {
      "cell_type": "code",
      "source": [
        "list1 = ['a', 'A', 4, 4, 45, True, False, 'b']\n",
        "print(list1)\n",
        "#ordered: if we add new item, it will go to end. and when we print, order does't change\n",
        "#values can be changable\n",
        "#allow duplicates and any data types\n",
        "\n",
        "#make list using list() constructor\n",
        "\n",
        "list2 = list(('a', 'A', 4, 4, 45, True, False, 'b')) #double brackets are compulsory\n",
        "print(list2)\n",
        "\n"
      ],
      "metadata": {
        "colab": {
          "base_uri": "https://localhost:8080/"
        },
        "id": "8iKJZOdeXzzq",
        "outputId": "5e30681e-c9b7-43e7-eb51-95deb1ea1823"
      },
      "execution_count": null,
      "outputs": [
        {
          "output_type": "stream",
          "name": "stdout",
          "text": [
            "['a', 'A', 4, 4, 45, True, False, 'b']\n",
            "['a', 'A', 4, 4, 45, True, False, 'b']\n"
          ]
        }
      ]
    },
    {
      "cell_type": "markdown",
      "source": [
        "***Accesing values in List***"
      ],
      "metadata": {
        "id": "782tyMFqcKsR"
      }
    },
    {
      "cell_type": "code",
      "source": [
        "list1 = ['a', 'A', 4, 5,4, 45, True, False, 'b']\n",
        "print(list1[2])\n",
        "print(list1[2:5])\n",
        "print(list1[-5:-1])\n",
        "print(list1[-1:-5]) #no output, bc, it doesn't work right to left\n",
        "print('a' in list1) #true, if 'aa' in list1  then #false\n",
        "#print(a in list1) #error\n",
        "print(type(list1[0][0]),len(list1))\n",
        "print(type(list1))\n",
        "\n",
        "listX = [list1[0], list1[3]]\n",
        "print(listX)\n",
        "s = 'shubham'\n",
        "print('as' in s)\n",
        "print('s' in s)\n",
        "print('a' in s)\n",
        "\n",
        "#RandoM\n",
        "def ds():\n",
        "  asf =3\n",
        "  kk = 34\n",
        "  return [asf, kk]   #o/p: [3, 34] as list, if we don't put any brackets, it will return as  tuple\n",
        "  \n",
        "\n",
        "print(ds(), type(ds()))\n",
        "\n"
      ],
      "metadata": {
        "colab": {
          "base_uri": "https://localhost:8080/"
        },
        "id": "wxwDsPq2cOit",
        "outputId": "631890c2-fbc0-47b5-aeed-51a95464d117"
      },
      "execution_count": null,
      "outputs": [
        {
          "output_type": "stream",
          "name": "stdout",
          "text": [
            "4\n",
            "[4, 5, 4]\n",
            "[4, 45, True, False]\n",
            "[]\n",
            "True\n",
            "<class 'str'> 9\n",
            "<class 'list'>\n",
            "['a', 5]\n",
            "False\n",
            "True\n",
            "True\n",
            "[3, 34] <class 'list'>\n"
          ]
        }
      ]
    },
    {
      "cell_type": "markdown",
      "source": [
        "***Change values in List***"
      ],
      "metadata": {
        "id": "LYhpfeRadmuf"
      }
    },
    {
      "cell_type": "code",
      "source": [
        "list1 = ['india', 'pak', 'us', 'uk', 'jp']\n",
        "list1[1] = 'np' #replacing value\n",
        "list1[1:3] = ['kl', 'oc'] #or without brackets also works fine\n",
        "\n",
        "#replace 2nd value with 2 new values\n",
        "list1[1] = 'az', 'zk' #it will return both as a combined tuple and insert into list\n",
        "list1[1] = ['az', 'zk'] #it will return both as a combined list and insert into list\n",
        "list1[1:2] = 'az', 'zk' #it will work fine now\n",
        "\n",
        "#replace 2nd and 3rd value by replacing it with single value\n",
        "#list1[1:3] = 'new' #as we know string also kinda array. so 'n', 'e', 'w' will replace 2nd&3rd values\n",
        "#list1[1:3] = ('new') #it will also do the same as string\n",
        "list1[1:3] = ['new'] #it will work fine\n",
        "\n",
        "print('***ORIGNAL**',list1, len(list1))\n",
        "\n",
        "list1[0] = '0new'        #when only single location and single value\n",
        "print(list1, len(list1))\n",
        "\n",
        "list1[1:2] = '1.1new', '1.2new'   #with[] also fine      #when single location and multiple values\n",
        "print(list1, len(list1))\n",
        "\n",
        "list1[1:3] = ['2new']    #when multiple loc. and single values\n",
        "print(list1, len(list1))\n",
        "\n",
        "list1[1:3] = '1.1new', '1.2new', '1.3new'   #with[] also fine     #when mulpilte loc.(less than values)  and multiple values\n",
        "print(list1, len(list1))\n",
        "\n",
        "list1[1:4] = '2new' ,'3new'    #when multiple loc.(more than values) and multiple values\n",
        "print(list1, len(list1))\n",
        "\n",
        "\n",
        "\n"
      ],
      "metadata": {
        "colab": {
          "base_uri": "https://localhost:8080/"
        },
        "id": "NAvuuhPIdqc7",
        "outputId": "aebbe970-4bb0-4744-8d14-5ae77e74ba2e"
      },
      "execution_count": null,
      "outputs": [
        {
          "output_type": "stream",
          "name": "stdout",
          "text": [
            "***ORIGNAL** ['india', 'new', 'oc', 'uk', 'jp'] 5\n",
            "['0new', 'new', 'oc', 'uk', 'jp'] 5\n",
            "['0new', '1.1new', '1.2new', 'oc', 'uk', 'jp'] 6\n",
            "['0new', '2new', 'oc', 'uk', 'jp'] 5\n",
            "['0new', '1.1new', '1.2new', '1.3new', 'uk', 'jp'] 6\n",
            "['0new', '2new', '3new', 'uk', 'jp'] 5\n"
          ]
        }
      ]
    },
    {
      "cell_type": "markdown",
      "source": [
        "***Add values in List & Joining Lists***"
      ],
      "metadata": {
        "id": "8wVYGgfEixfL"
      }
    },
    {
      "cell_type": "code",
      "source": [
        "list1 = ['india', 'pak', 'us', 'uk', 'jp']\n",
        "list_orignal = list1\n",
        "print('Orignal: ',list_orignal, ' ', len(list_orignal))\n",
        "\n",
        "#append(): add item in the end\n",
        "list1.append('using_append')\n",
        "print(list1, len(list1))\n",
        "\n",
        "#insert(): add item to a specified location\n",
        "#list1[2] = 'using_direct' #this also works same\n",
        "list1.insert(2, 'using_insert')\n",
        "print(list1, len(list1))\n",
        "\n",
        "#extend(): merging two lists\n",
        "#list3 = list1+list2 #this also works same\n",
        "list2 = [1,2,3,4]\n",
        "list1.extend(list2) #extend() works on every tuple,set,list dict. etc\n",
        "print(list1)\n",
        "\n",
        "list1[:5] = ['n1','n2','n3'] #O/P: ['n1', 'n2', 'n3', 'jp', 'using_append', 1, 2, 3, 4]\n",
        "#i.e. we want to change 0-4th pog. of list1 by these 3 values, so 3 values will be inserted  and rest values. will be delated\n",
        "print(list1)\n",
        "\n",
        "list1[:2] = ['k1','k2','k3'] #O/P: ['k1', 'k2', 'k3', 'n3', 'jp', 'using_append', 1, 2, 3, 4]\n",
        "#i.e 0-1, only 2 pog. values we want to change by 3 values. so extra value added automatically\n",
        "print(list1)\n",
        "\n",
        "\n"
      ],
      "metadata": {
        "colab": {
          "base_uri": "https://localhost:8080/"
        },
        "id": "C-rDu8eTi03-",
        "outputId": "96f0618c-8839-4aa1-a775-149dfebfcbbe"
      },
      "execution_count": null,
      "outputs": [
        {
          "output_type": "stream",
          "name": "stdout",
          "text": [
            "Orignal:  ['india', 'pak', 'us', 'uk', 'jp']   5\n",
            "['india', 'pak', 'us', 'uk', 'jp', 'using_append'] 6\n",
            "['india', 'pak', 'using_insert', 'us', 'uk', 'jp', 'using_append'] 7\n",
            "['india', 'pak', 'using_insert', 'us', 'uk', 'jp', 'using_append', 1, 2, 3, 4]\n",
            "['n1', 'n2', 'n3', 'jp', 'using_append', 1, 2, 3, 4]\n",
            "['k1', 'k2', 'k3', 'n3', 'jp', 'using_append', 1, 2, 3, 4]\n"
          ]
        }
      ]
    },
    {
      "cell_type": "markdown",
      "source": [
        "***Removing item from List***"
      ],
      "metadata": {
        "id": "MLummncNy7Il"
      }
    },
    {
      "cell_type": "code",
      "source": [
        "list1\n",
        "#remove(): here we have to specify the value that we want to remove\n",
        "#list1.remove('pak') #it can take only single argument\n",
        "\n",
        "#pop(): remove from specified index, if we don't specify, last value will delete\n",
        "#list1.pop(1) #it can take only single argument \n",
        "\n",
        "#del: this is a keyword, works same as remove, to delete from specified location\n",
        "list3 = ['a','b','c','d','e']\n",
        "#del list1[-1]\n",
        "#del can delte cokmplete list too\n",
        "print(list3)\n",
        "del list3\n",
        "\n",
        "#clear: it clears all the value inside but don't delete list\n",
        "list4 = [1,2,3,4,5,56,6,77,8]\n",
        "print(list4)\n",
        "list4.clear()\n",
        "print(list4)\n",
        "\n",
        "x = [1,2,3,4, 'shubham']\n",
        "del x[0:2]\n",
        "print(x)"
      ],
      "metadata": {
        "colab": {
          "base_uri": "https://localhost:8080/"
        },
        "id": "JEOKTsVBy-Cc",
        "outputId": "a00571b6-2ac3-46fa-e888-f5ba7cf0c1af"
      },
      "execution_count": null,
      "outputs": [
        {
          "output_type": "stream",
          "name": "stdout",
          "text": [
            "['a', 'b', 'c', 'd', 'e']\n",
            "[1, 2, 3, 4, 5, 56, 6, 77, 8]\n",
            "[]\n",
            "[3, 4, 'shubham']\n"
          ]
        }
      ]
    },
    {
      "cell_type": "markdown",
      "source": [
        "***Loop in List***"
      ],
      "metadata": {
        "id": "_cB2lEDc2mXE"
      }
    },
    {
      "cell_type": "code",
      "source": [
        ""
      ],
      "metadata": {
        "id": "iui9Ttak2pQY"
      },
      "execution_count": null,
      "outputs": []
    },
    {
      "cell_type": "markdown",
      "source": [
        ""
      ],
      "metadata": {
        "id": "0prbZbvH2pa9"
      }
    },
    {
      "cell_type": "markdown",
      "source": [
        "***List Comprehension***"
      ],
      "metadata": {
        "id": "rZ7vDK2b3G20"
      }
    },
    {
      "cell_type": "code",
      "source": [
        "#newlist = [expression for item in iterable if condition == True]\n",
        "\n",
        "l1 = ['a', 'b', 'c', 'd']\n",
        "l2=[]\n",
        "for x in l1:\n",
        "  l2.append(x)\n",
        "print(l2)\n",
        "\n",
        "#OR\n",
        "l1 = ['a', 'b', 'c', 'd']\n",
        "l2 = [x for x in l1] #short form\n",
        "print(l2)\n",
        "\n"
      ],
      "metadata": {
        "id": "nXCZDatI3Kdj",
        "colab": {
          "base_uri": "https://localhost:8080/"
        },
        "outputId": "9751b624-9303-4037-b7fc-e877fc48ae25"
      },
      "execution_count": null,
      "outputs": [
        {
          "output_type": "stream",
          "name": "stdout",
          "text": [
            "['a', 'b', 'c', 'd']\n",
            "['a', 'b', 'c', 'd']\n"
          ]
        }
      ]
    },
    {
      "cell_type": "code",
      "source": [
        "l1 = ['a', 'ba', 'c', 'd']\n",
        "l2=[]\n",
        "for x in l1:\n",
        "  if 'a' in x:\n",
        "    l2.append(x)\n",
        "print(l2)\n",
        "\n",
        "#OR\n",
        "\n",
        "l1 = ['a', 'ba', 'c', 'd']\n",
        "l2 = [x for x in l1 if 'a' in x]\n",
        "print(l2)\n",
        "\n",
        "l3 = [x for x in range(10) if x>5]\n",
        "print(l3)\n",
        "\n",
        "l4 = [x.upper() for x in l1]\n",
        "print(l4)\n",
        "\n",
        "l5 = ['hello' for x in l2]\n",
        "print(l5)\n"
      ],
      "metadata": {
        "colab": {
          "base_uri": "https://localhost:8080/",
          "height": 130
        },
        "id": "NDy5IuoUER4v",
        "outputId": "d98d216f-4c6f-4ecd-f0c9-28f96056354b"
      },
      "execution_count": null,
      "outputs": [
        {
          "output_type": "error",
          "ename": "SyntaxError",
          "evalue": "ignored",
          "traceback": [
            "\u001b[0;36m  File \u001b[0;32m\"<ipython-input-9-a05b6154c29a>\"\u001b[0;36m, line \u001b[0;32m14\u001b[0m\n\u001b[0;31m    l3 = [x if x>5 for x in range(10) ]\u001b[0m\n\u001b[0m                     ^\u001b[0m\n\u001b[0;31mSyntaxError\u001b[0m\u001b[0;31m:\u001b[0m invalid syntax\n"
          ]
        }
      ]
    },
    {
      "cell_type": "code",
      "source": [
        "#Return \"orange\" instead of \"banana\":\n",
        "fr = [\"apple\", \"banana\", \"cherry\", \"kiwi\", \"mango\"]\n",
        "l2 = [x if x != 'banana' else 'orange' for x in fr ]\n",
        "print(l2) #\"Return the item if it is not banana, if it is banana return orange\"\n",
        "\n",
        "\n",
        "#[2: for x in l1: 1]\n",
        "#1:agr sirf if ek if condiotin h without else then yhan likho, agr if else h toh 2 me likho\n",
        "#2: kya krna chahte ho if else k alawa"
      ],
      "metadata": {
        "colab": {
          "base_uri": "https://localhost:8080/"
        },
        "id": "hqNsf4JsF7V-",
        "outputId": "05f21307-8b96-4c67-f61f-fcf5a624cf28"
      },
      "execution_count": null,
      "outputs": [
        {
          "output_type": "stream",
          "name": "stdout",
          "text": [
            "['apple', 'orange', 'cherry', 'kiwi', 'mango']\n"
          ]
        }
      ]
    },
    {
      "cell_type": "markdown",
      "source": [
        "***Sorting***"
      ],
      "metadata": {
        "id": "CkUG4EvJttIH"
      }
    },
    {
      "cell_type": "code",
      "source": [
        "#sort works only on same datatype list, if str then only str, if int, then only int\n",
        "list1 = ['a','f', 'l', 'b', 'x','Z', 'D']\n",
        "list2 = [1,2,3,6,9,7,0]\n",
        "\n",
        "list1.sort() #sort in asc. order, but you can see, it is case senstive, i.e. Capital letters gets priority\n",
        "list2.sort() \n",
        "\n",
        "list1.sort(reverse = True) #sort in DESCENDING. order, here small leter gets priority\n",
        "list2.sort(reverse = True)\n",
        "\n",
        "list1.sort(key = str.lower) #sort in asc. regardless of case sensive or not. O/P:['a', 'b', 'D', 'f', 'l', 'x', 'Z']\n",
        "#list2.sort(key = str.lower) #error, bc list2 has int values\n",
        "\n",
        "list1.reverse()\n",
        "list2.reverse() #reverse order, without changing to asc. or desc\n",
        "print(list1)\n",
        "print(list2)"
      ],
      "metadata": {
        "colab": {
          "base_uri": "https://localhost:8080/"
        },
        "id": "_WCswEcWtym1",
        "outputId": "22862984-20b9-4001-b6bf-8badc1352e6c"
      },
      "execution_count": null,
      "outputs": [
        {
          "output_type": "stream",
          "name": "stdout",
          "text": [
            "['Z', 'x', 'l', 'f', 'D', 'b', 'a']\n",
            "[0, 1, 2, 3, 6, 7, 9]\n"
          ]
        }
      ]
    },
    {
      "cell_type": "markdown",
      "source": [
        "***Copying List***"
      ],
      "metadata": {
        "id": "b6ck-s5gxhq_"
      }
    },
    {
      "cell_type": "code",
      "source": [
        "list1 = ['a', 'b', 12]\n",
        "list2 = list1\n",
        "print('List1: ',list1)\n",
        "print('List2: ',list2)\n",
        "\n",
        "list2.append('new_val')\n",
        "print('Updated_List1: ',list1)\n",
        "print('Updated_List2: ',list2)\n",
        "\n",
        "#here you can see, changes done in list2, will affect list1 too. bc list2 = list1 means list2 has just reference of list1, not as seperate copy\n",
        "#copy(): fun is used to make copy\n",
        "list3 = list1.copy()\n",
        "list3\n",
        "list3.insert(1, 'list3_new_value')\n",
        "print(list3)\n",
        "list1\n",
        "\n",
        "#OR, use list() constructor\n",
        "list4 = list(list1)\n",
        "print(list4)\n"
      ],
      "metadata": {
        "colab": {
          "base_uri": "https://localhost:8080/"
        },
        "id": "K4fxHTSOxj1d",
        "outputId": "b2455b15-2be6-49f8-ccf2-cfd0ab4897a1"
      },
      "execution_count": null,
      "outputs": [
        {
          "output_type": "stream",
          "name": "stdout",
          "text": [
            "['a', 'b', 12]\n",
            "['a', 'b', 12]\n",
            "['a', 'b', 12, 'new_val']\n",
            "['a', 'b', 12, 'new_val']\n",
            "['a', 'list3_new_value', 'b', 12, 'new_val']\n",
            "['a', 'b', 12, 'new_val']\n"
          ]
        }
      ]
    },
    {
      "cell_type": "code",
      "source": [
        "import pandas as pd\n",
        " \n",
        "# initialize as list\n",
        "data = [[1, 10], [3, 45], [56, -6], [-96, -65]]\n",
        " \n",
        "# Create the pandas DataFrame\n",
        "df = pd.DataFrame(data, columns = ['A', 'B'])\n",
        "print(df)\n",
        "print('*****************')\n",
        "\n",
        "df['C'] = None\n",
        "\n",
        "if df.iat[0,0] < 0 and df.iat[0,1] < 0:\n",
        "  df.iat[0,2] = -100\n",
        "elif df.iat[0,0] < 0 and df.iat[0,1] > 0:\n",
        "  df.iat[0,2]  = 100\n",
        "elif df.iat[0,0] > 0 and df.iat[0,1] < 0:\n",
        "  df.iat[0,2]  = 100\n",
        "else:\n",
        "  df['C'] = df['A']/df['B']\n",
        "\n",
        "print('New dataFrame:')\n",
        "print(df)\n"
      ],
      "metadata": {
        "colab": {
          "base_uri": "https://localhost:8080/"
        },
        "id": "24i8pkgGF3sM",
        "outputId": "76328dd0-ce1d-4680-c29b-08f0c022a7d2"
      },
      "execution_count": null,
      "outputs": [
        {
          "output_type": "stream",
          "name": "stdout",
          "text": [
            "    A   B\n",
            "0   1  10\n",
            "1   3  45\n",
            "2  56  -6\n",
            "3 -96 -65\n",
            "*****************\n",
            "New dataFrame:\n",
            "    A   B         C\n",
            "0   1  10  0.100000\n",
            "1   3  45  0.066667\n",
            "2  56  -6 -9.333333\n",
            "3 -96 -65  1.476923\n"
          ]
        }
      ]
    },
    {
      "cell_type": "markdown",
      "source": [
        "***Join List***"
      ],
      "metadata": {
        "id": "sWkGDTMX0Axc"
      }
    },
    {
      "cell_type": "code",
      "source": [
        "#join list in a way like, join values 1 by 1 each\n",
        "list1 = ['f', 'o', '0']\n",
        "list2 = ['hello', 'world']\n",
        "\n",
        "list3 = list1 + list2\n",
        "print(list3) #this we dont want\n",
        "\n",
        "result = [None]*(len(list1)+len(list2))\n",
        "print(result ,len(result), type(result))\n",
        "result[::2] = list1\n",
        "print(result ,len(result), type(result))\n",
        "\n",
        "result[1::2] = list2\n",
        "print(result, len(result))\n",
        "\n"
      ],
      "metadata": {
        "colab": {
          "base_uri": "https://localhost:8080/"
        },
        "id": "qHBBDka50CqL",
        "outputId": "e75af73a-9cbf-4d16-c7c7-7eadd02a1099"
      },
      "execution_count": null,
      "outputs": [
        {
          "output_type": "stream",
          "name": "stdout",
          "text": [
            "['f', 'o', '0', 'hello', 'world']\n",
            "[None, None, None, None, None] 5 <class 'list'>\n",
            "['f', None, 'o', None, '0'] 5 <class 'list'>\n",
            "['f', 'hello', 'o', 'world', '0'] 5\n"
          ]
        }
      ]
    },
    {
      "cell_type": "code",
      "source": [
        "# :: means [start:end:step]\n",
        "l = ['a','b','c','d','e','f','g','h','i','j']\n",
        "print(l[1:5])\n",
        "print(l[1:5:3])\n",
        "\n",
        "#start point is 1: b\n",
        "#end is 5(last not inclued so 4): e(last is not included)\n",
        "#steps are 3: i.e 1,4 bc 5 will be out-of bound so not included"
      ],
      "metadata": {
        "colab": {
          "base_uri": "https://localhost:8080/"
        },
        "id": "flU6sAZg3r5N",
        "outputId": "8d37dcf4-cdff-4f94-8c66-c64c367005c8"
      },
      "execution_count": null,
      "outputs": [
        {
          "output_type": "stream",
          "name": "stdout",
          "text": [
            "['b', 'c', 'd', 'e']\n",
            "['b', 'e']\n"
          ]
        }
      ]
    },
    {
      "cell_type": "code",
      "source": [
        "#revese string\n",
        "x = 'abc def'\n",
        "print(x[::-1])\n",
        "#start: we don't know\n",
        "#end: don't know\n",
        "#steps: -1 i.e at 'a' it will take -1 step i.e. it will reach last and keep on doing this!\n"
      ],
      "metadata": {
        "colab": {
          "base_uri": "https://localhost:8080/"
        },
        "id": "gjS7qpFr8UUf",
        "outputId": "c6e55310-ecf8-4b1c-aafd-6ff20b9e5c6b"
      },
      "execution_count": null,
      "outputs": [
        {
          "output_type": "stream",
          "name": "stdout",
          "text": [
            "fed cba\n"
          ]
        }
      ]
    },
    {
      "cell_type": "code",
      "source": [
        "#reverse list\n",
        "x = ['abc def']\n",
        "print(x.reverse()) #none, bc it reverse list values, but here only 1 value we have\n",
        "# but we want to inverse it likes string. so..\n",
        "\n",
        "y = []\n",
        "y.append(x[0][::-1])\n",
        "print('Y: ',y, type(y), len(y))\n",
        "\n",
        "#OR\n",
        "x[0] = x[0][::-1]\n",
        "print('X: ',x, type(x), len(x))"
      ],
      "metadata": {
        "colab": {
          "base_uri": "https://localhost:8080/"
        },
        "id": "fqnoI3S-_I5S",
        "outputId": "034bc810-f717-49fe-9f64-78b75b846714"
      },
      "execution_count": null,
      "outputs": [
        {
          "output_type": "stream",
          "name": "stdout",
          "text": [
            "None\n",
            "Y:  ['fed cba'] <class 'list'> 1\n",
            "X:  ['fed cba'] <class 'list'> 1\n"
          ]
        }
      ]
    },
    {
      "cell_type": "code",
      "source": [
        "#random\n",
        "x = 'shubham ThaKur'\n",
        "#o/p: ShubhamthaKur, thakurShubham\n",
        "\n",
        "x = x.split(' ')\n",
        "print(x)\n",
        "x[0] = x[0].capitalize()\n",
        "k = x[1]\n",
        "\n",
        "print(type(k[3]), k[3])\n",
        "print(x)\n",
        "y = x[0]+x[1]\n",
        "print(y)\n",
        "\n",
        "\n"
      ],
      "metadata": {
        "colab": {
          "base_uri": "https://localhost:8080/"
        },
        "id": "HVYub-Fw4T8q",
        "outputId": "291e1613-78f2-4ab9-d47a-1a99f9d7937d"
      },
      "execution_count": null,
      "outputs": [
        {
          "output_type": "stream",
          "name": "stdout",
          "text": [
            "['shubham', 'ThaKur']\n",
            "<class 'str'> K\n",
            "['Shubham', 'ThaKur']\n",
            "ShubhamThaKur\n"
          ]
        }
      ]
    },
    {
      "cell_type": "code",
      "source": [
        "#shubhamthakur, shuBhamThakur, shubham thakur, [shubhamthakur], [shubham thakur]\n",
        "#ThakurshuBham, thakurShubh am, thaKur_ShuBha m1998, [ThakurshuBham], [Thakur ShubhaM]\n",
        "x = 'shubhamthakur'\n",
        "a1 = x[:7]\n",
        "a2 = x[7:]\n",
        "a2 = a2.capitalize()\n",
        "l1 = list((a1))\n",
        "l1[3] = l1[3].upper()\n",
        "s1 = \"\"\n",
        "print(s1, l1)\n",
        "s1 = s1.join(l1)   #to join string and list\n",
        "print(s1)\n",
        "result = a2+s1\n",
        "print(result)\n",
        "\n"
      ],
      "metadata": {
        "colab": {
          "base_uri": "https://localhost:8080/"
        },
        "id": "Phc8OIdc640T",
        "outputId": "e38dc0dd-d0fd-44a3-ba9f-3c5c475f9d93"
      },
      "execution_count": null,
      "outputs": [
        {
          "output_type": "stream",
          "name": "stdout",
          "text": [
            " ['s', 'h', 'u', 'B', 'h', 'a', 'm']\n",
            "shuBham\n",
            "ThakurshuBham\n"
          ]
        }
      ]
    },
    {
      "cell_type": "code",
      "source": [
        "x = 'sHuBhamThakur'\n",
        "a1 = x[:7]\n",
        "a2 = x[7:]\n",
        "print(a1, type(a1))\n",
        "a2 = a2.lower()\n",
        "\n",
        "a11 = a1[:5]\n",
        "a22 = a1[5:]\n",
        "\n",
        "l1 = list((a11))\n",
        "l1[3] = l1[3].lower()\n",
        "s1 = \"\"\n",
        "s1 = s1.join(l1)\n",
        "s1 = s1.capitalize()\n",
        "print(a2+s1+' '+a22)\n",
        "\n"
      ],
      "metadata": {
        "colab": {
          "base_uri": "https://localhost:8080/"
        },
        "id": "I02VIyUngNzQ",
        "outputId": "b45c9b66-7209-4635-bca6-a278fcbe1d52"
      },
      "execution_count": null,
      "outputs": [
        {
          "output_type": "stream",
          "name": "stdout",
          "text": [
            "sHuBham <class 'str'>\n",
            "thakurShubh am\n"
          ]
        }
      ]
    },
    {
      "cell_type": "code",
      "source": [
        ""
      ],
      "metadata": {
        "id": "RiC9bEFqxqVA"
      },
      "execution_count": null,
      "outputs": []
    },
    {
      "cell_type": "code",
      "source": [
        "x = 'shubham thakur'\n",
        "a1 = x[:7]\n",
        "a2 = x[8:]\n",
        "\n",
        "l1 = list((a2))\n",
        "l1[3] = l1[3].upper()\n",
        "s1 = ''\n",
        "s1 = s1.join(l1)\n",
        "\n",
        "l2 = list(a1)\n",
        "l2[0] = l2[0].upper()\n",
        "l2[3] = l2[3].upper()\n",
        "l2[-1] = 'm1998'\n",
        "ss = l2[-1]\n",
        "print(l2, type(ss))\n",
        "l2.pop()\n",
        "s2 = ''\n",
        "s2 = s2.join(l2)\n",
        "\n",
        "result = s1+'_'+s2+' '+ss\n",
        "print(result)"
      ],
      "metadata": {
        "colab": {
          "base_uri": "https://localhost:8080/"
        },
        "id": "0PXxcblDhiYZ",
        "outputId": "b34240d3-fadd-4957-cfe2-cbbd69055dcd"
      },
      "execution_count": null,
      "outputs": [
        {
          "output_type": "stream",
          "name": "stdout",
          "text": [
            "['S', 'h', 'u', 'B', 'h', 'a', 'm1998'] <class 'str'>\n",
            "thaKur_ShuBha m1998\n"
          ]
        }
      ]
    },
    {
      "cell_type": "code",
      "source": [
        "x = ['shubhamthakur']   #[ThakurshuBham]\n",
        "s1 = x[0][:7]\n",
        "s2 = x[0][7:]\n",
        "s2 = s2.capitalize()\n",
        "\n",
        "l1 = list((s1))\n",
        "l1[3] = l1[3].upper()\n",
        "s12 = ''\n",
        "s12 = s12.join(l1)\n",
        "result = [s2 + s12]\n",
        "print(result, type(result))\n",
        "\n"
      ],
      "metadata": {
        "colab": {
          "base_uri": "https://localhost:8080/"
        },
        "id": "eMQr7epqjYJC",
        "outputId": "20cec30e-a89b-41de-b3bb-2aa05ecb8e46"
      },
      "execution_count": null,
      "outputs": [
        {
          "output_type": "stream",
          "name": "stdout",
          "text": [
            "['ThakurshuBham'] <class 'list'>\n"
          ]
        }
      ]
    },
    {
      "cell_type": "code",
      "source": [
        "x = ['shubham thakur']\n",
        "#[Thakur ShubhaM] #['Thakur','_ShubhaM']\n",
        "\n",
        "a1 = x[0][8:]\n",
        "a2 = x[0][:7]\n",
        "a1 = a1.capitalize()\n",
        "a2 = a2.capitalize()\n",
        "\n",
        "l1 = list((a2))\n",
        "l1[-1] = l1[-1].upper()\n",
        "l1[0] = '_S'\n",
        "ss1 = ''\n",
        "ss1 = ss1.join(l1)\n",
        "r1 = [a1 + ' '+ss1] #if we use list((a1 + ' '+ss1)), it will seperate each word as a sepeterate string\n",
        "r2 = [a1]\n",
        "r2.append(ss1)\n",
        "print(r1)\n",
        "print(r2)\n",
        "print(type(ss1))\n",
        "\n"
      ],
      "metadata": {
        "colab": {
          "base_uri": "https://localhost:8080/"
        },
        "id": "gvZC3OBok6DP",
        "outputId": "d6490fbd-c07b-4d37-e399-e097039a5af2"
      },
      "execution_count": null,
      "outputs": [
        {
          "output_type": "stream",
          "name": "stdout",
          "text": [
            "['Thakur _ShubhaM']\n",
            "['Thakur', '_ShubhaM']\n",
            "<class 'str'>\n"
          ]
        }
      ]
    },
    {
      "cell_type": "code",
      "source": [
        "x = 'shuBhamThakur' #thakurShubh am\n",
        "a1 = x[:7]\n",
        "a2 = x[7:]\n",
        "a2 = a2.lower()\n",
        "a1 = a1.capitalize()\n",
        "a1 = a1.replace('B', 'b')\n",
        "a12 = a1[:5]\n",
        "a13 = a1[5:]\n",
        "\n",
        "result  = a2 + a12 + \" \"+ a13\n",
        "\n",
        "print(result)"
      ],
      "metadata": {
        "colab": {
          "base_uri": "https://localhost:8080/"
        },
        "id": "IKSBPPY9kQ-A",
        "outputId": "49d87008-7b0c-4b34-eb23-f35bf6ec5cfb"
      },
      "execution_count": null,
      "outputs": [
        {
          "output_type": "stream",
          "name": "stdout",
          "text": [
            "thakurShubh am\n"
          ]
        }
      ]
    },
    {
      "cell_type": "code",
      "source": [
        "x = ['shubham', 'thakur', 103]\n",
        "s1 = x[0]\n",
        "s2 = x[1]\n",
        "s3 = str(x[2])\n",
        "\n",
        "s1 = s1[::-1]\n",
        "s2 = s2[::-1]\n",
        "s3 = s3[::-1]\n",
        "\n",
        "x.clear()\n",
        "x.extend([s1, s2, s3]) #REMEBER THIS, when add multiple values in list from   variables\n",
        "x.reverse()\n",
        "print(x)\n",
        "print(s1, s2,s3)"
      ],
      "metadata": {
        "colab": {
          "base_uri": "https://localhost:8080/"
        },
        "id": "o70z-HmCmHRo",
        "outputId": "71daa093-96f7-4ef4-d304-7d8aeed9aead"
      },
      "execution_count": null,
      "outputs": [
        {
          "output_type": "stream",
          "name": "stdout",
          "text": [
            "['301', 'rukaht', 'mahbuhs']\n",
            "mahbuhs rukaht 301\n"
          ]
        }
      ]
    },
    {
      "cell_type": "markdown",
      "source": [
        "***List Methods()***"
      ],
      "metadata": {
        "id": "yi3qVrXkl4s2"
      }
    },
    {
      "cell_type": "code",
      "source": [
        ""
      ],
      "metadata": {
        "id": "_xzJ0gnEl_x1"
      },
      "execution_count": null,
      "outputs": []
    },
    {
      "cell_type": "markdown",
      "source": [
        "# **TUPLE**"
      ],
      "metadata": {
        "id": "QSlogXYen__8"
      }
    },
    {
      "cell_type": "markdown",
      "source": [
        ""
      ],
      "metadata": {
        "id": "7iGogT03oFJ1"
      }
    },
    {
      "cell_type": "code",
      "source": [
        "x = (1,2,1, 'a', 'A', 'b', 'a', True)\n",
        "new_tup = tuple(('a', 'b', 3))           #double (()) are compulsory\n",
        "print(x, type(x), len(x))\n",
        "#ordered, allow duplicates values and diff. data types\n",
        "#UNCHANGABLE: once tuple created, no add, remove, change of values\n",
        "\n",
        "#empty list, 1st has len=0 rest all have len=1\n",
        "y = [] \n",
        "print(y, type(y), len(y))\n",
        "y = [1] \n",
        "print(y, type(y), len(y))\n",
        "y = [''] \n",
        "print(y, type(y), len(y))\n",
        "y = [None] \n",
        "print(y, type(y), len(y))\n",
        "y = [2,] \n",
        "print(y, type(y), len(y))\n",
        "y = ['',] \n",
        "print(y, type(y), len(y))\n",
        "y = [None,] \n",
        "print(y, type(y), len(y))\n",
        "#y = [,] #error \n",
        "#print(y, type(y), len(y))\n",
        "\n",
        "print('\\n******************************************\\n')\n",
        "z = () \n",
        "print(z, type(z), len(z))\n",
        "#z = (1)              #int, so len won't work, so error\n",
        "#print(z, type(z), len(z))\n",
        "z = ('',)             #len=0 if ('') \n",
        "print(z, type(z), len(z))\n",
        "#z = (None)             #none, so len won't work, so error\n",
        "#print(z, type(z), len(z))\n",
        "z = (2,) \n",
        "print(z, type(z), len(z))\n",
        "z = ('',) \n",
        "print(z, type(z), len(z))\n",
        "z = (None,) \n",
        "print(z, type(z), len(z))\n",
        "#y = [,] #error \n",
        "#print(y, type(y), len(y))\n",
        "\n",
        "#so to create single value list: [1], [1,] both are same\n",
        "#to create single value tupe: (1) will return as int, ('') this as string. so (1,) and ('',) will give single value tuple, ',' is imp. here\n",
        "\n",
        "#Note: When creating a tuple with only one item, remember to include a comma after the item, otherwise it will not be identified as a tuple.\n",
        "\n"
      ],
      "metadata": {
        "colab": {
          "base_uri": "https://localhost:8080/"
        },
        "id": "ZXvwF9DyoH00",
        "outputId": "befd292b-2aa6-4ddd-ad8c-08d25facdfb2"
      },
      "execution_count": null,
      "outputs": [
        {
          "output_type": "stream",
          "name": "stdout",
          "text": [
            "(1, 2, 1, 'a', 'A', 'b', 'a', True) <class 'tuple'> 8\n",
            "[] <class 'list'> 0\n",
            "[1] <class 'list'> 1\n",
            "[''] <class 'list'> 1\n",
            "[None] <class 'list'> 1\n",
            "[2] <class 'list'> 1\n",
            "[''] <class 'list'> 1\n",
            "[None] <class 'list'> 1\n",
            "\n",
            "******************************************\n",
            "\n",
            "() <class 'tuple'> 0\n",
            "('',) <class 'tuple'> 1\n",
            "(2,) <class 'tuple'> 1\n",
            "('',) <class 'tuple'> 1\n",
            "(None,) <class 'tuple'> 1\n"
          ]
        }
      ]
    },
    {
      "cell_type": "markdown",
      "source": [
        "***Access Tuple***"
      ],
      "metadata": {
        "id": "opTDyvpQA-CZ"
      }
    },
    {
      "cell_type": "code",
      "source": [
        "#accessing tuple same as list, using []\n",
        "x = (1,2,1, 'a', 'A', 'b', 'a', True, 'xyz')\n",
        "y = [1,2,1, 'a', 'A', 'b', 'a', True, 'xyz']\n",
        "\n",
        "print(x[5])\n",
        "print(x[-1])\n",
        "print(x[2:5])\n",
        "print(x[:5])\n",
        "print(x[5:])\n",
        "\n",
        "print('x' in x) #F\n",
        "print('Xyz' in x) #F\n",
        "print('xyz' in x) #T\n",
        "\n",
        "print('\\n*****List*****\\n')\n",
        "print('x' in y)\n",
        "print('Xyz' in y)\n",
        "print('xyz' in y) #same as tuple o/p\n",
        "\n"
      ],
      "metadata": {
        "colab": {
          "base_uri": "https://localhost:8080/"
        },
        "id": "jbd0BrvdBDxc",
        "outputId": "ebb312d0-9844-4514-a321-4f2be9342540"
      },
      "execution_count": null,
      "outputs": [
        {
          "output_type": "stream",
          "name": "stdout",
          "text": [
            "b\n",
            "xyz\n",
            "(1, 'a', 'A')\n",
            "(1, 2, 1, 'a', 'A')\n",
            "('b', 'a', True, 'xyz')\n",
            "False\n",
            "False\n",
            "True\n",
            "\n",
            "*****List*****\n",
            "\n",
            "False\n",
            "False\n",
            "True\n"
          ]
        }
      ]
    },
    {
      "cell_type": "markdown",
      "source": [
        "***Update Tuple***"
      ],
      "metadata": {
        "id": "A7G9YALjCudN"
      }
    },
    {
      "cell_type": "code",
      "source": [
        "#to update, convert it into list, then do modification, then convert back to tuple\n",
        "x = (1,2,3)\n",
        "x = list((x))\n",
        "x[0] = 44\n",
        "x = tuple((x))\n",
        "print(x)"
      ],
      "metadata": {
        "colab": {
          "base_uri": "https://localhost:8080/"
        },
        "id": "cqpfUiCKCx3q",
        "outputId": "79eecaf0-af82-4726-8978-55f3c4f8b005"
      },
      "execution_count": null,
      "outputs": [
        {
          "output_type": "stream",
          "name": "stdout",
          "text": [
            "(44, 2, 3)\n"
          ]
        }
      ]
    },
    {
      "cell_type": "markdown",
      "source": [
        "***Add Values in Tuple***"
      ],
      "metadata": {
        "id": "4Cpnf_nXfruF"
      }
    },
    {
      "cell_type": "code",
      "source": [
        "#change to list first...\n",
        "#Add tuple to tuple: this is possible\n",
        "\n",
        "x = (1,2)\n",
        "y = (3,4)\n",
        "x += y\n",
        "print(x)"
      ],
      "metadata": {
        "colab": {
          "base_uri": "https://localhost:8080/"
        },
        "id": "u2hZFOu8furG",
        "outputId": "a06aab5c-a7f9-4241-9513-d131ee1a61d8"
      },
      "execution_count": null,
      "outputs": [
        {
          "output_type": "stream",
          "name": "stdout",
          "text": [
            "(1, 2, 3, 4)\n"
          ]
        }
      ]
    },
    {
      "cell_type": "markdown",
      "source": [
        "***Remove values***"
      ],
      "metadata": {
        "id": "3wjB1t04gG0e"
      }
    },
    {
      "cell_type": "code",
      "source": [
        "#convert to list then...\n",
        "#we can only delete tuple completly\n",
        "x = (1,3)\n",
        "print(x)\n",
        "del x\n",
        "#print(x)"
      ],
      "metadata": {
        "colab": {
          "base_uri": "https://localhost:8080/"
        },
        "id": "4wSXQdz3gJlf",
        "outputId": "a9ab9395-80ed-4949-a64b-52c918705cfe"
      },
      "execution_count": null,
      "outputs": [
        {
          "output_type": "stream",
          "name": "stdout",
          "text": [
            "(1, 3)\n"
          ]
        }
      ]
    },
    {
      "cell_type": "markdown",
      "source": [
        "***Unpack Tuple***"
      ],
      "metadata": {
        "id": "nUFYxWxMgiPf"
      }
    },
    {
      "cell_type": "code",
      "source": [
        "x = (1,2,3)\n",
        "y = (55,66)\n",
        "a1 = x\n",
        "a1 = a1+y\n",
        "print(a1, type(a1))"
      ],
      "metadata": {
        "colab": {
          "base_uri": "https://localhost:8080/"
        },
        "id": "oLOfpnyrgmye",
        "outputId": "4d631da7-de9c-4ae5-d824-b433865c86b1"
      },
      "execution_count": null,
      "outputs": [
        {
          "output_type": "stream",
          "name": "stdout",
          "text": [
            "(1, 2, 3, 55, 66) <class 'tuple'>\n"
          ]
        }
      ]
    },
    {
      "cell_type": "code",
      "source": [
        "list1 = ['a', 'b', 12]\n",
        "list2 = list1\n",
        "list3 = ['x','y','z']\n",
        "list1 = list2 + list3\n",
        "print('List1: ',list1)\n",
        "print('List2: ',list2)\n",
        "print('List3: ',list3)"
      ],
      "metadata": {
        "colab": {
          "base_uri": "https://localhost:8080/"
        },
        "id": "GqhFRAIfDQdh",
        "outputId": "1f46712f-8413-4971-bae2-ef5b9c485c16"
      },
      "execution_count": null,
      "outputs": [
        {
          "output_type": "stream",
          "name": "stdout",
          "text": [
            "List1:  ['a', 'b', 12, 'x', 'y', 'z']\n",
            "List2:  ['a', 'b', 12]\n",
            "List3:  ['x', 'y', 'z']\n"
          ]
        }
      ]
    },
    {
      "cell_type": "code",
      "source": [
        "x = [1,2,3]\n",
        "y = [55,66]\n",
        "a1 = x\n",
        "a1 = a1+y\n",
        "print(a1, type(a1))"
      ],
      "metadata": {
        "colab": {
          "base_uri": "https://localhost:8080/"
        },
        "id": "wdAehdkphHPd",
        "outputId": "4e4828b4-bf1b-46f0-ca74-53b620c6bf60"
      },
      "execution_count": null,
      "outputs": [
        {
          "output_type": "stream",
          "name": "stdout",
          "text": [
            "[1, 2, 3, 55, 66] <class 'list'>\n"
          ]
        }
      ]
    },
    {
      "cell_type": "code",
      "source": [
        "list1 = ['a', 'b', 12]\n",
        "list2 = list1\n",
        "print('List1: ',list1, id(list1))\n",
        "print('List2: ',list2, id(list2))\n",
        "\n",
        "list2.append('new_val')\n",
        "print('Updated_List1: ',list1, id(list1))\n",
        "print('Updated_List2: ',list2, id(list2))"
      ],
      "metadata": {
        "colab": {
          "base_uri": "https://localhost:8080/"
        },
        "id": "Wl0DHxIci6h9",
        "outputId": "e7d998af-6564-42de-a804-9f8c36892c62"
      },
      "execution_count": null,
      "outputs": [
        {
          "output_type": "stream",
          "name": "stdout",
          "text": [
            "List1:  ['a', 'b', 12] 140685166145200\n",
            "List2:  ['a', 'b', 12] 140685166145200\n",
            "Updated_List1:  ['a', 'b', 12, 'new_val'] 140685166145200\n",
            "Updated_List2:  ['a', 'b', 12, 'new_val'] 140685166145200\n"
          ]
        }
      ]
    },
    {
      "cell_type": "code",
      "source": [
        "list1 = ['a', 'b', 12]\n",
        "list2 = list1\n",
        "list3 = ['x','y','z']\n",
        "list2 = list2 + list3\n",
        "print('List1: ',list1, id(list1))\n",
        "print('List2: ',list2, id(list2))\n",
        "print('List3: ',list3, id(list3))\n",
        "\n",
        "\n"
      ],
      "metadata": {
        "colab": {
          "base_uri": "https://localhost:8080/"
        },
        "id": "_DDDe8NXi_FX",
        "outputId": "f82fc377-7d2f-4209-baed-66e636e5f436"
      },
      "execution_count": null,
      "outputs": [
        {
          "output_type": "stream",
          "name": "stdout",
          "text": [
            "List1:  ['a', 'b', 12] 140437177673760\n",
            "List2:  ['a', 'b', 12, 'x', 'y', 'z'] 140437177673520\n",
            "List3:  ['x', 'y', 'z'] 140437178138128\n"
          ]
        }
      ]
    },
    {
      "cell_type": "markdown",
      "source": [
        "***Loop in Tuple***"
      ],
      "metadata": {
        "id": "EKRNQkU8Upk9"
      }
    },
    {
      "cell_type": "code",
      "source": [
        ""
      ],
      "metadata": {
        "id": "GLMot6hLUsvw"
      },
      "execution_count": null,
      "outputs": []
    },
    {
      "cell_type": "markdown",
      "source": [
        "***Join Tuple***"
      ],
      "metadata": {
        "id": "DPBtASQJUs6D"
      }
    },
    {
      "cell_type": "code",
      "source": [
        "a = (1,2, 'a')\n",
        "b = (3,4)\n",
        "c = a+b\n",
        "d = a*2 #to creates mupltiples of content inside\n",
        "print(c)\n",
        "print(d)"
      ],
      "metadata": {
        "colab": {
          "base_uri": "https://localhost:8080/"
        },
        "id": "8F6wk6nXU2Mt",
        "outputId": "5d141cfc-069b-47e2-b0cf-5c73c4c9ec07"
      },
      "execution_count": null,
      "outputs": [
        {
          "output_type": "stream",
          "name": "stdout",
          "text": [
            "(1, 2, 'a', 3, 4)\n",
            "(1, 2, 'a', 1, 2, 'a')\n"
          ]
        }
      ]
    },
    {
      "cell_type": "markdown",
      "source": [
        "***Methods of Tuple***"
      ],
      "metadata": {
        "id": "fitFzCo4VPsc"
      }
    },
    {
      "cell_type": "code",
      "source": [
        "#count(): #count no of times a value occurs\n",
        "a = ('a',1,2,3,3,3,3,33,'a')\n",
        "print(a.count(3)) #4\n",
        "\n",
        "#index()\n",
        "print(a.index('a' )) #goes from left to right and return the 1st occurence of value. o/p:0\n",
        "print(a.index('a', 1 )) #now it statrs from 1th pog. o/p:8"
      ],
      "metadata": {
        "colab": {
          "base_uri": "https://localhost:8080/"
        },
        "id": "dfvGxa-_VTKy",
        "outputId": "e4f0bb62-4230-40ba-bd92-4a4d2c626a42"
      },
      "execution_count": null,
      "outputs": [
        {
          "output_type": "stream",
          "name": "stdout",
          "text": [
            "4\n",
            "0\n",
            "8\n"
          ]
        }
      ]
    },
    {
      "cell_type": "markdown",
      "source": [
        "# **SETS**"
      ],
      "metadata": {
        "id": "U2dscgbvWzqc"
      }
    },
    {
      "cell_type": "code",
      "source": [
        "#use {}\n",
        "#it is unordered, unchnagable(we can't updates values, but we can delete or add new one), undixed, NO Duplicates\n",
        "x = {'a', 1,2,1,2,'b'}\n",
        "print(x, type(x), len(x)) #o/p:{1, 2, 'b', 'a'} <class 'set'> 4\n",
        "\n",
        "y = set((1,2,1,2,'a','b'))\n",
        "print(y)"
      ],
      "metadata": {
        "colab": {
          "base_uri": "https://localhost:8080/"
        },
        "id": "O8oGjYktW3GE",
        "outputId": "6f95d4e3-cea2-4f47-bab4-704ad4963b12"
      },
      "execution_count": null,
      "outputs": [
        {
          "output_type": "stream",
          "name": "stdout",
          "text": [
            "{1, 2, 'b', 'a'} <class 'set'> 4\n",
            "{1, 2, 'b', 'a'}\n"
          ]
        }
      ]
    },
    {
      "cell_type": "markdown",
      "source": [
        "***Access Items***"
      ],
      "metadata": {
        "id": "9kt-8pQRYKBz"
      }
    },
    {
      "cell_type": "code",
      "source": [
        "#index stuff isn't possible here, bc it is unordered\n",
        "#to access 'for loop' will be used\n",
        "x = {'a','abx','xba' ,'ba', 'x','hx', 'b','y','z'}\n",
        "for i in x:\n",
        "  print(i[0], type(i))\n",
        "\n",
        "print('***********************')\n",
        "\n",
        "for i in x:\n",
        "  if 'a' and 'x' in i:\n",
        "    print(i)\n",
        "    \n",
        "print('***********************')\n",
        "\n",
        "print('abX' in x)\n",
        "print('abx' in x)\n",
        "print('ab' in x)\n",
        "print('a' in x)"
      ],
      "metadata": {
        "colab": {
          "base_uri": "https://localhost:8080/"
        },
        "id": "QEd1krJgYM8L",
        "outputId": "9e241628-60dc-470e-bd22-ebe2854b70ac"
      },
      "execution_count": null,
      "outputs": [
        {
          "output_type": "stream",
          "name": "stdout",
          "text": [
            "h <class 'str'>\n",
            "b <class 'str'>\n",
            "a <class 'str'>\n",
            "x <class 'str'>\n",
            "y <class 'str'>\n",
            "z <class 'str'>\n",
            "x <class 'str'>\n",
            "b <class 'str'>\n",
            "a <class 'str'>\n",
            "***********************\n",
            "hx\n",
            "abx\n",
            "x\n",
            "xba\n",
            "***********************\n",
            "False\n",
            "True\n",
            "False\n",
            "True\n"
          ]
        }
      ]
    },
    {
      "cell_type": "markdown",
      "source": [
        "***Add items in SETS***"
      ],
      "metadata": {
        "id": "nPm9lu4Mc8e8"
      }
    },
    {
      "cell_type": "code",
      "source": [
        "#add() and update()\n",
        "#add(): #can take single argument\n",
        "s = {1,2,3,'a','b'}\n",
        "s.add('x')   #it can take only SINGLE argument\n",
        "print(s)\n",
        "\n",
        "#update(): \n",
        "s1 = {1,2,3,'a','b'}\n",
        "s2 = {'x','y'}\n",
        "s1.update(s2) #s2 doesn't has to be set only, it can be anything\n",
        "#s3 = s1+s2 #error\n",
        "\n",
        "l1 = {'lop':'shubham'} #dict. o/p: {1, 2, 3, 'x', 'b', 'y', 's', 'a'}\n",
        "l2 = ['shubham']\n",
        "l3= '12345'\n",
        "s1.update(l2, l1, l3) #can take multiple arguments\n",
        "print(s1)"
      ],
      "metadata": {
        "colab": {
          "base_uri": "https://localhost:8080/"
        },
        "id": "LoFajaRec_tl",
        "outputId": "cbcf8706-f67e-4eea-8f9d-da9e072b4ead"
      },
      "execution_count": null,
      "outputs": [
        {
          "output_type": "stream",
          "name": "stdout",
          "text": [
            "{1, 2, 3, 'x', 'b', 'a'}\n",
            "{1, 2, 3, 'x', 'shubham', '2', 'b', '1', 'y', 'a', '5', 'lop', '3', '4'}\n"
          ]
        }
      ]
    },
    {
      "cell_type": "markdown",
      "source": [
        "***Removing Items***"
      ],
      "metadata": {
        "id": "o-Fp7Tjnliq1"
      }
    },
    {
      "cell_type": "code",
      "source": [
        "#remove() and discard()   , pop(), clear(), del\n",
        "\n",
        "#remove(): can take SINGLE argument; if value isn't found in remove() method, it will throw error\n",
        "s = {1,2,3,'a','b'}\n",
        "s.remove('a')\n",
        "print(s)\n",
        "\n",
        "#discard(): can take SINGLE argument; if value isn't found in remove() method, it will NOT throw error \n",
        "s1 = {1,2,3, 'a', 'b', 'c'}\n",
        "s1.discard(666)\n",
        "print(s1)\n",
        "\n",
        "#pop(): can take NO argument; set is unordered, so we won't know which value will be removed, but it will be last\n",
        "#and in 'x' variable, deleted value will be stored, in remove() and discard(), x will show NONE\n",
        "s2 = {1,2,3, 'a', 'b', 'c'}\n",
        "x = s2.pop()\n",
        "print(x)\n",
        "\n",
        "#clear(): to clear the set\n",
        "s3 = {1,2,3, 'a', 'b', 'c'}\n",
        "s3.clear()\n",
        "print(s3)\n",
        "\n",
        "#del: delte set completly\n",
        "s4 = {1,2,3, 'a', 'b', 'c'}\n",
        "del s4\n",
        "#print(s4)"
      ],
      "metadata": {
        "colab": {
          "base_uri": "https://localhost:8080/"
        },
        "id": "dXh-IhNmllqF",
        "outputId": "d6935088-68f2-49b0-bff6-7c7f6398c2b5"
      },
      "execution_count": null,
      "outputs": [
        {
          "output_type": "stream",
          "name": "stdout",
          "text": [
            "{1, 2, 3, 'b'}\n",
            "{1, 2, 3, 'b', 'c', 'a'}\n",
            "1\n",
            "set()\n"
          ]
        }
      ]
    },
    {
      "cell_type": "markdown",
      "source": [
        "***Join Sets***"
      ],
      "metadata": {
        "id": "1Cism1w9pIiA"
      }
    },
    {
      "cell_type": "code",
      "source": [
        "#union() and update(): both EXCLUDES duplicates\n",
        "\n",
        "#update(): as we know, it will add all values of s2 into s1, but s2 remains same and if we try to make new set, not possible:EMpty set s3\n",
        "s1 = {1,2,3}\n",
        "s2 = {'a','b'}\n",
        "s3 = s1.update(s2)\n",
        "print(s1)\n",
        "print(s2)\n",
        "print(s3)\n",
        "\n",
        "#union(): here we can make new set without changing orignal sets\n",
        "s1 = {1,2,3}\n",
        "s2 = {'a','b'}\n",
        "s3 = s1.union(s2)\n",
        "print('********UNION()*********')\n",
        "print(s1)\n",
        "print(s2)\n",
        "print(s3)\n",
        "\n",
        "\n",
        "\n",
        "\n"
      ],
      "metadata": {
        "colab": {
          "base_uri": "https://localhost:8080/"
        },
        "id": "krw07RJ0pLk4",
        "outputId": "1e9ee0de-f992-4ec9-e561-df9640395aa1"
      },
      "execution_count": null,
      "outputs": [
        {
          "output_type": "stream",
          "name": "stdout",
          "text": [
            "{'a', 1, 2, 3, 'b'}\n",
            "{'a', 'b'}\n",
            "None\n",
            "********UNION()*********\n",
            "{1, 2, 3}\n",
            "{'a', 'b'}\n",
            "{'a', 1, 2, 3, 'b'}\n"
          ]
        }
      ]
    },
    {
      "cell_type": "markdown",
      "source": [
        "***Join: Keep only Duplicates***"
      ],
      "metadata": {
        "id": "HXj4eS9Qq8sf"
      }
    },
    {
      "cell_type": "code",
      "source": [
        "#intersection_update() and intersection()\n",
        "\n",
        "#intersection_update(): \n",
        "s1 = {1,2,3}\n",
        "s2 = {'a','b', 1,2}\n",
        "s1.intersection_update(s2)  #s2 remains same, s1 will have now same values which are present in s1&s2\n",
        "s3 = s1.intersection_update(s2)  #s3 will be none\n",
        "print(s1)\n",
        "print(s2)\n",
        "print(s3)\n",
        "\n",
        "#intersection(): same as above, but here we can create NEW set, orignal set will remain same\n",
        "s1 = {1,2,3}\n",
        "s2 = {'a','b', 1,2}\n",
        "s3 = s1.intersection(s2)\n",
        "print(s1)\n",
        "print(s2)\n",
        "print(s3)"
      ],
      "metadata": {
        "colab": {
          "base_uri": "https://localhost:8080/"
        },
        "id": "e2ju02RXrCZH",
        "outputId": "82757d69-2c4d-4822-9ae8-4da6211e3c69"
      },
      "execution_count": null,
      "outputs": [
        {
          "output_type": "stream",
          "name": "stdout",
          "text": [
            "{1, 2}\n",
            "{'b', 1, 2, 'a'}\n",
            "None\n",
            "{1, 2, 3}\n",
            "{'b', 1, 2, 'a'}\n",
            "{1, 2}\n"
          ]
        }
      ]
    },
    {
      "cell_type": "markdown",
      "source": [
        "***Join: Keep All, But NOT the Duplicates***"
      ],
      "metadata": {
        "id": "7nxcJidCE41K"
      }
    },
    {
      "cell_type": "code",
      "source": [
        "#symmetric_difference(), symmetric_difference_update()\n",
        "#: don't confuse it with update() and union()\n",
        "\n",
        "s1 = {1,2,3,4}\n",
        "s2 = {1,2,5,6}\n",
        "#s1.update(s2) #o/p: {1, 2, 3, 4, 5, 6}; and s2 remains same\n",
        "s1.symmetric_difference_update(s2) #o/p: {3, 4, 5, 6}; and s2 remains same\n",
        "print(s1)\n",
        "print(s2)\n",
        "\n",
        "s1 = {1,2,3,4}\n",
        "s2 = {1,2,5,6}\n",
        "s3 = s1.symmetric_difference(s2)\n",
        "print('**********')\n",
        "print(s1)\n",
        "print(s2)\n",
        "print(s3)"
      ],
      "metadata": {
        "colab": {
          "base_uri": "https://localhost:8080/"
        },
        "id": "z7uwvck5Eex_",
        "outputId": "6166dbea-a09e-49c1-fde6-df0bb5b10198"
      },
      "execution_count": null,
      "outputs": [
        {
          "output_type": "stream",
          "name": "stdout",
          "text": [
            "{3, 4, 5, 6}\n",
            "{1, 2, 5, 6}\n",
            "**********\n",
            "{1, 2, 3, 4}\n",
            "{1, 2, 5, 6}\n",
            "{3, 4, 5, 6}\n"
          ]
        }
      ]
    },
    {
      "cell_type": "markdown",
      "source": [
        "***Join METHODS:***"
      ],
      "metadata": {
        "id": "Ge-hffsQGdss"
      }
    },
    {
      "cell_type": "code",
      "source": [
        ""
      ],
      "metadata": {
        "id": "ciNPSW4PGhU1"
      },
      "execution_count": null,
      "outputs": []
    },
    {
      "cell_type": "markdown",
      "source": [
        "# **DICTIONARIES**"
      ],
      "metadata": {
        "id": "KgKUJRjgGjom"
      }
    },
    {
      "cell_type": "markdown",
      "source": [
        ""
      ],
      "metadata": {
        "id": "74ycAqn0GsG-"
      }
    },
    {
      "cell_type": "code",
      "source": [
        "#ordered, changable, no-duplicate keys\n",
        "dict1 = {\n",
        "    'Name': ['shubham', 'ram'],  #1line:1key, 'name','age' can't be in single line\n",
        "    'Age': [21, None],\n",
        "    'Country': 'India',\n",
        "    'year1': 2022,\n",
        "    'year': 2022,\n",
        "    77: 'sk'    #keys can be int too\n",
        "}\n",
        "print(dict1, len(dict1), type(dict1))\n",
        "#print(dict1[0]) #ERROR; not allowed, we have to specify KEY\n",
        "\n",
        "print(dict1[77])\n",
        "#duplicates of KEY: NOT allowed, duplicated  of VALUE: allowed\n"
      ],
      "metadata": {
        "colab": {
          "base_uri": "https://localhost:8080/"
        },
        "id": "KqWQOWN0Hocc",
        "outputId": "9945fef9-8838-4385-e4cf-e026b7fd8bed"
      },
      "execution_count": null,
      "outputs": [
        {
          "output_type": "stream",
          "name": "stdout",
          "text": [
            "{'Name': ['shubham', 'ram'], 'Age': [21, None], 'Country': 'India', 'year1': 2022, 'year': 2022, 77: 'sk'} 6 <class 'dict'>\n",
            "sk\n"
          ]
        }
      ]
    },
    {
      "cell_type": "markdown",
      "source": [
        "***Accessing Items***"
      ],
      "metadata": {
        "id": "HnxCC5RvJ3Fg"
      }
    },
    {
      "cell_type": "code",
      "source": [
        "dict1 = {\n",
        "    'Name': ['shubham', 'ram'],  #1line:1key, 'name','age' can't be in single line\n",
        "    'Age': [21, None],\n",
        "    'Country': 'India',\n",
        "    'year1': 2022,\n",
        "    'year': 2022\n",
        "}\n",
        "\n",
        "print(dict1['Name'])\n",
        "#OR\n",
        "print(dict1.get('Name'))\n",
        "#OR\n",
        "x = dict1.get('Name')\n",
        "print(x)"
      ],
      "metadata": {
        "colab": {
          "base_uri": "https://localhost:8080/"
        },
        "id": "fCgO5CzmJ5Qz",
        "outputId": "cdc5938f-b002-4243-f760-4944c1ac58e1"
      },
      "execution_count": null,
      "outputs": [
        {
          "output_type": "stream",
          "name": "stdout",
          "text": [
            "['shubham', 'ram']\n",
            "['shubham', 'ram']\n",
            "['shubham', 'ram']\n"
          ]
        }
      ]
    },
    {
      "cell_type": "markdown",
      "source": [
        "***Accessing Items: GET Keys***"
      ],
      "metadata": {
        "id": "7U1G1UsmkEBC"
      }
    },
    {
      "cell_type": "code",
      "source": [
        "dict1 = {\n",
        "    'Name': ['shubham', 'ram'],  #1line:1key, 'name','age' can't be in single line\n",
        "    'Age': [21, None],\n",
        "    'Country': 'India',\n",
        "    'year1': 2022,\n",
        "    'year': 2022\n",
        "}\n",
        "dict1.keys()\n",
        "#OR\n",
        "print(dict1.keys())\n",
        "#OR\n",
        "x = dict1.keys()\n",
        "print(x)"
      ],
      "metadata": {
        "colab": {
          "base_uri": "https://localhost:8080/"
        },
        "id": "ndY8FSMEkG4j",
        "outputId": "cbde1f56-ee81-4b66-f8f0-19b3f4be3066"
      },
      "execution_count": null,
      "outputs": [
        {
          "output_type": "stream",
          "name": "stdout",
          "text": [
            "dict_keys(['Name', 'Age', 'Country', 'year1', 'year'])\n",
            "dict_keys(['Name', 'Age', 'Country', 'year1', 'year'])\n"
          ]
        }
      ]
    },
    {
      "cell_type": "markdown",
      "source": [
        "***Accessing Items: GET Values***"
      ],
      "metadata": {
        "id": "tkvxw95dlFAc"
      }
    },
    {
      "cell_type": "code",
      "source": [
        "dict1 = {\n",
        "    'Name': ['shubham', 'ram'],  #1line:1key, 'name','age' can't be in single line\n",
        "    'Age': [21, None],\n",
        "    'Country': 'India',\n",
        "    'year1': 2022,\n",
        "    'year': 2022\n",
        "}\n",
        "dict1.values()\n",
        "#OR\n",
        "print(dict1.values())\n",
        "#OR\n",
        "x = dict1.values()\n",
        "print(x)"
      ],
      "metadata": {
        "colab": {
          "base_uri": "https://localhost:8080/"
        },
        "id": "vGRwmjT9lHBM",
        "outputId": "21914c75-c975-4945-f1ef-8122a51cefee"
      },
      "execution_count": null,
      "outputs": [
        {
          "output_type": "stream",
          "name": "stdout",
          "text": [
            "dict_values([['shubham', 'ram'], [21, None], 'India', 2022, 2022])\n",
            "dict_values([['shubham', 'ram'], [21, None], 'India', 2022, 2022])\n"
          ]
        }
      ]
    },
    {
      "cell_type": "markdown",
      "source": [
        "***Accessing Items: GET Items***"
      ],
      "metadata": {
        "id": "6pp_PLdlleo5"
      }
    },
    {
      "cell_type": "code",
      "source": [
        "dict1 = {\n",
        "    'Name': ['shubham', 'ram'],  #1line:1key, 'name','age' can't be in single line\n",
        "    'Age': [21, None],\n",
        "    'Country': 'India',\n",
        "    'year1': 2022,\n",
        "    'year': 2022\n",
        "}\n",
        "print(dict1)\n",
        "print(dict1.items())   #return each item(key:value pair) as TUPLES and all the tuples will be inside ONE LIST\n"
      ],
      "metadata": {
        "colab": {
          "base_uri": "https://localhost:8080/"
        },
        "id": "9xV4g3nYlsRS",
        "outputId": "c0043f74-1891-4965-f959-4f724ffd4216"
      },
      "execution_count": null,
      "outputs": [
        {
          "output_type": "stream",
          "name": "stdout",
          "text": [
            "{'Name': ['shubham', 'ram'], 'Age': [21, None], 'Country': 'India', 'year1': 2022, 'year': 2022}\n",
            "dict_items([('Name', ['shubham', 'ram']), ('Age', [21, None]), ('Country', 'India'), ('year1', 2022), ('year', 2022)])\n"
          ]
        }
      ]
    },
    {
      "cell_type": "markdown",
      "source": [
        "***Accessing: Check if Key Exists***"
      ],
      "metadata": {
        "id": "6p2l5ucKm_hj"
      }
    },
    {
      "cell_type": "code",
      "source": [
        "dict1 = {\n",
        "    'Name': ['shubham', 'ram'],  #1line:1key, 'name','age' can't be in single line\n",
        "    'Age': [21, None],\n",
        "    'Country': 'India',\n",
        "    'year1': 2022,\n",
        "    'year': 2022\n",
        "}\n",
        "if 'Name' in dict1:\n",
        "  print('Yes')\n",
        "else:\n",
        "  print('NO')"
      ],
      "metadata": {
        "colab": {
          "base_uri": "https://localhost:8080/"
        },
        "id": "9dPpivEFnNJj",
        "outputId": "58cfd04c-05c3-45ab-e5ce-0fcc017ec4b9"
      },
      "execution_count": null,
      "outputs": [
        {
          "output_type": "stream",
          "name": "stdout",
          "text": [
            "Yes\n"
          ]
        }
      ]
    },
    {
      "cell_type": "markdown",
      "source": [
        "***Changing Values in Dict.***"
      ],
      "metadata": {
        "id": "X0-TQWIIncBK"
      }
    },
    {
      "cell_type": "code",
      "source": [
        "#2ways\n",
        "dict1 = {\n",
        "    'Name': ['shubham', 'ram'],  #1line:1key, 'name','age' can't be in single line\n",
        "    'Age': [21, None],\n",
        "    'Country': 'India',\n",
        "    'year1': 2022,\n",
        "    'year': 2022\n",
        "}\n",
        "dict1['year'] = 56\n",
        "print(dict1)\n",
        "\n",
        "#OR\n",
        "\n",
        "dict1.update({'year': 500})\n",
        "#dict1.update({'new_year': 5900})  #it will add new item in dict.\n",
        "\n",
        "print(dict1)"
      ],
      "metadata": {
        "colab": {
          "base_uri": "https://localhost:8080/"
        },
        "id": "ld2pv6V3vxx2",
        "outputId": "66266a0b-b9cb-47af-9dfd-8cbc4c560e8b"
      },
      "execution_count": null,
      "outputs": [
        {
          "output_type": "stream",
          "name": "stdout",
          "text": [
            "{'Name': ['shubham', 'ram'], 'Age': [21, None], 'Country': 'India', 'year1': 2022, 'year': 56}\n",
            "{'Name': ['shubham', 'ram'], 'Age': [21, None], 'Country': 'India', 'year1': 2022, 'year': 500}\n"
          ]
        }
      ]
    },
    {
      "cell_type": "markdown",
      "source": [
        "***Add Items***"
      ],
      "metadata": {
        "id": "PzjJbenO0RnU"
      }
    },
    {
      "cell_type": "code",
      "source": [
        "#2ways:\n",
        "dict1 = {\n",
        "    'Name': ['shubham', 'ram'],  #1line:1key, 'name','age' can't be in single line\n",
        "    'Age': [21, None],\n",
        "    'Country': 'India',\n",
        "    'year1': 2022,\n",
        "    'year': 2022\n",
        "}\n",
        "print(dict1)\n",
        "#directly: \n",
        "dict1['New_Field'] = 'i don\\'t know!'\n",
        "print(dict1)\n",
        "\n",
        "#OR\n",
        "\n",
        "#update()\n",
        "dict1.update({'update_new': 'hi'})\n",
        "print(dict1)"
      ],
      "metadata": {
        "colab": {
          "base_uri": "https://localhost:8080/"
        },
        "id": "DkkLhPrp0TuJ",
        "outputId": "5aa63067-a28c-4db5-f798-d9682c509a3e"
      },
      "execution_count": null,
      "outputs": [
        {
          "output_type": "stream",
          "name": "stdout",
          "text": [
            "{'Name': ['shubham', 'ram'], 'Age': [21, None], 'Country': 'India', 'year1': 2022, 'year': 2022}\n",
            "{'Name': ['shubham', 'ram'], 'Age': [21, None], 'Country': 'India', 'year1': 2022, 'year': 2022, 'New_Field': \"i don't know!\"}\n",
            "{'Name': ['shubham', 'ram'], 'Age': [21, None], 'Country': 'India', 'year1': 2022, 'year': 2022, 'New_Field': \"i don't know!\", 'update_new': 'hi'}\n"
          ]
        }
      ]
    },
    {
      "cell_type": "markdown",
      "source": [
        "***Remove Items***"
      ],
      "metadata": {
        "id": "m345jwBi1qiN"
      }
    },
    {
      "cell_type": "code",
      "source": [
        "#pop(), popitem(), del\n",
        "dict1 = {\n",
        "    'Name': ['shubham', 'ram'],  #1line:1key, 'name','age' can't be in single line\n",
        "    'Age': [21, None],\n",
        "    'Country': 'India',\n",
        "    'year1': 2022,\n",
        "    'year': 2022\n",
        "}\n",
        "print(dict1)\n",
        "\n",
        "#pop()\n",
        "dict1.pop('year') #can't take pog of key as value to delete; like 2\n",
        "print(dict1)\n",
        "\n",
        "#popitem()\n",
        "dict1.popitem()  #no arguments is rule here, it will remove last item\n",
        "print(dict1)\n",
        "\n",
        "#del: same as pop()\n",
        "#it can also delete complete dict. permanently\n",
        "del dict1['Country']\n",
        "print(dict1)\n",
        "\n",
        "#clear() \n",
        "dict1.clear()\n",
        "print(dict1)\n"
      ],
      "metadata": {
        "colab": {
          "base_uri": "https://localhost:8080/"
        },
        "id": "rA691C451so6",
        "outputId": "2599dbb5-6e80-4bfb-e8a2-37fb3c22c6e7"
      },
      "execution_count": null,
      "outputs": [
        {
          "output_type": "stream",
          "name": "stdout",
          "text": [
            "{'Name': ['shubham', 'ram'], 'Age': [21, None], 'Country': 'India', 'year1': 2022, 'year': 2022}\n",
            "{'Name': ['shubham', 'ram'], 'Age': [21, None], 'Country': 'India', 'year1': 2022}\n",
            "{'Name': ['shubham', 'ram'], 'Age': [21, None], 'Country': 'India'}\n",
            "{'Name': ['shubham', 'ram'], 'Age': [21, None]}\n",
            "{}\n"
          ]
        }
      ]
    },
    {
      "cell_type": "markdown",
      "source": [
        "***Loop in Dict.***"
      ],
      "metadata": {
        "id": "ZfjS4V9B3saL"
      }
    },
    {
      "cell_type": "code",
      "source": [
        "d1 = {'name':'ram',\n",
        "      'age':21}\n",
        "for x in d1:\n",
        "  print(d1[x])\n",
        "  print()\n",
        "  print(x)"
      ],
      "metadata": {
        "id": "r4uuxGe93usY",
        "colab": {
          "base_uri": "https://localhost:8080/"
        },
        "outputId": "bdc8c35f-b223-4460-cc86-c072fbb9d6af"
      },
      "execution_count": null,
      "outputs": [
        {
          "output_type": "stream",
          "name": "stdout",
          "text": [
            "ram\n",
            "\n",
            "name\n",
            "21\n",
            "\n",
            "age\n"
          ]
        }
      ]
    },
    {
      "cell_type": "markdown",
      "source": [
        "***Copying Dict.***"
      ],
      "metadata": {
        "id": "mEg3a6Cs3u3l"
      }
    },
    {
      "cell_type": "code",
      "source": [
        "#same as list\n",
        "#dict1 = dict2 #it will create reference not copy\n",
        "dict1 = {\n",
        "    'Name': ['shubham', 'ram'],  #1line:1key, 'name','age' can't be in single line\n",
        "    'Age': [21, None],\n",
        "    'Country': 'India',\n",
        "    'year1': 2022,\n",
        "    'year': 2022\n",
        "}\n",
        "dict2 = dict1.copy()\n",
        "print(dict2)\n",
        "#OR\n",
        "dict3 = dict(dict1)\n",
        "print(dict3)"
      ],
      "metadata": {
        "colab": {
          "base_uri": "https://localhost:8080/"
        },
        "id": "NXup2lvb3x7Y",
        "outputId": "01e3bccf-7216-4b0b-b99c-25e33b92f8e6"
      },
      "execution_count": null,
      "outputs": [
        {
          "output_type": "stream",
          "name": "stdout",
          "text": [
            "{'Name': ['shubham', 'ram'], 'Age': [21, None], 'Country': 'India', 'year1': 2022, 'year': 2022}\n",
            "{'Name': ['shubham', 'ram'], 'Age': [21, None], 'Country': 'India', 'year1': 2022, 'year': 2022}\n"
          ]
        }
      ]
    },
    {
      "cell_type": "markdown",
      "source": [
        "***Nested Dict***"
      ],
      "metadata": {
        "id": "B3bOQ_1sgJu4"
      }
    },
    {
      "cell_type": "code",
      "source": [
        "dict1 = {\n",
        "    'child1':\n",
        "    {\n",
        "        'name': 'shubham',\n",
        "        'age': 12,\n",
        "        'marks': 96\n",
        "\n",
        "    },\n",
        "    'child2':\n",
        "    {\n",
        "        'name': 'rajat',\n",
        "        'age': 16,\n",
        "        'marks': 99\n",
        "    },\n",
        "    'child3':\n",
        "    {\n",
        "        'name': 'ram',\n",
        "        'age': 11,\n",
        "        'marks': 91\n",
        "    }\n",
        "}\n",
        "print(dict1)\n",
        "\n",
        "#OR\n",
        "\n",
        "child1 = {\n",
        "    'name': 'shuham',\n",
        "    'age': 22,\n",
        "    'marks': 99\n",
        "} \n",
        "child2 = {\n",
        "    'name': 'ram',\n",
        "    'age': 21,\n",
        "    'marks': 91\n",
        "}\n",
        "\n",
        "family = {\n",
        "    'kid1': child1,\n",
        "    'kid2': child2\n",
        "}\n",
        "\n",
        "print(type(child1),type(child2),type(family))\n",
        "print(family)"
      ],
      "metadata": {
        "colab": {
          "base_uri": "https://localhost:8080/"
        },
        "id": "DxaMMPWvgL3A",
        "outputId": "9e53f393-5091-4a87-ac4d-f661b1cd1767"
      },
      "execution_count": null,
      "outputs": [
        {
          "output_type": "stream",
          "name": "stdout",
          "text": [
            "{'child1': {'name': 'shubham', 'age': 12, 'marks': 96}, 'child2': {'name': 'rajat', 'age': 16, 'marks': 99}, 'child3': {'name': 'ram', 'age': 11, 'marks': 91}}\n",
            "<class 'dict'> <class 'dict'> <class 'dict'>\n",
            "{'kid1': {'name': 'shuham', 'age': 22, 'marks': 99}, 'kid2': {'name': 'ram', 'age': 21, 'marks': 91}}\n"
          ]
        }
      ]
    },
    {
      "cell_type": "code",
      "source": [
        "#random\n",
        "\n",
        "d1 = {'a':1, 'b':2}\n",
        "d2 = {'a':1, 'b':2}\n",
        "print(d1==d2) #T\n",
        "\n",
        "d1 = {'a':1, 'b':2}\n",
        "d2 = {'a':1, 'B':2}\n",
        "print(d1==d2) #F\n",
        "\n",
        "d1 = {'a':1, 'b':2}\n",
        "d2 = {'a':10, 'b':2}\n",
        "print(d1==d2) #F"
      ],
      "metadata": {
        "colab": {
          "base_uri": "https://localhost:8080/"
        },
        "id": "QOthT_ynT68K",
        "outputId": "53f19811-bdc3-4092-eff4-136b109f493c"
      },
      "execution_count": null,
      "outputs": [
        {
          "output_type": "stream",
          "name": "stdout",
          "text": [
            "True\n",
            "False\n",
            "False\n"
          ]
        }
      ]
    },
    {
      "cell_type": "markdown",
      "source": [
        "Dict. Methods"
      ],
      "metadata": {
        "id": "yvLLgayrkW7m"
      }
    },
    {
      "cell_type": "code",
      "source": [
        ""
      ],
      "metadata": {
        "id": "K8iqb05ykY1t"
      },
      "execution_count": null,
      "outputs": []
    },
    {
      "cell_type": "markdown",
      "source": [
        "# iF-ELSE LOOP"
      ],
      "metadata": {
        "id": "7r2KBKyJkZT0"
      }
    },
    {
      "cell_type": "code",
      "source": [
        "a = 34\n",
        "if a < 10:\n",
        "  print('a<10')\n",
        "elif a < 20: print('a<20') #short way if only single line we have!\n",
        "elif a<30:\n",
        "  print('a<30')\n",
        "else:\n",
        "  print('value of a is: ',a)"
      ],
      "metadata": {
        "id": "AYN6Tp1Tkteq",
        "colab": {
          "base_uri": "https://localhost:8080/"
        },
        "outputId": "5a3809cd-6eb7-40e5-cd22-bc1da9ada708"
      },
      "execution_count": null,
      "outputs": [
        {
          "output_type": "stream",
          "name": "stdout",
          "text": [
            "value of a is:  34\n"
          ]
        }
      ]
    },
    {
      "cell_type": "markdown",
      "source": [
        "***Multiple ELSE***"
      ],
      "metadata": {
        "id": "60qhUd9B1HaX"
      }
    },
    {
      "cell_type": "code",
      "source": [
        "#short form or terniary operator\n",
        "a = 22\n",
        "b = 34\n",
        "print('A') if a>b else print('B')\n",
        "\n",
        "#multiple else\n",
        "a = 33000\n",
        "b = 3300\n",
        "if a>b:\n",
        "  print('A')\n",
        "else:\n",
        "  if a == b:\n",
        "    print('=')\n",
        "  else:\n",
        "    print('B')\n",
        "\n",
        "\n",
        "#short form: multiple else\n",
        "a = 330000\n",
        "b = 33000\n",
        "\n",
        "print(\"A\") if a > b else print(\"=\") if a == b else print(\"B\")\n"
      ],
      "metadata": {
        "colab": {
          "base_uri": "https://localhost:8080/"
        },
        "id": "mDwcTgE80wlL",
        "outputId": "6d04c516-a1da-4d6e-8e38-6b9339fe6117"
      },
      "execution_count": null,
      "outputs": [
        {
          "output_type": "stream",
          "name": "stdout",
          "text": [
            "B\n",
            "A\n",
            "A\n"
          ]
        }
      ]
    },
    {
      "cell_type": "markdown",
      "source": [
        "***AND, OR***"
      ],
      "metadata": {
        "id": "1ijIbQCx1t9g"
      }
    },
    {
      "cell_type": "code",
      "source": [
        "a = 2200\n",
        "b = 340\n",
        "c = 55\n",
        "#print('A') if a>b and a>c elif print('B') if b>a and b>c elif print('C') if c>a and c>b else print('=') #error\n",
        "print('A') if a>b and a>c else print('B') if b>a and b>c else print('C') if c>a and c>b else print('=')"
      ],
      "metadata": {
        "colab": {
          "base_uri": "https://localhost:8080/"
        },
        "id": "bQAxLdA41wQ4",
        "outputId": "85cd052c-7901-4a66-885a-54d64b339ed9"
      },
      "execution_count": null,
      "outputs": [
        {
          "output_type": "stream",
          "name": "stdout",
          "text": [
            "A\n"
          ]
        }
      ]
    },
    {
      "cell_type": "markdown",
      "source": [
        "***Pass statement***"
      ],
      "metadata": {
        "id": "Wd4kLuiO3QvI"
      }
    },
    {
      "cell_type": "code",
      "source": [
        "a = 2\n",
        "b =33\n",
        "if a>b:\n",
        "  #if cannont be empty here, if some reason it has to be empty, use PASS\n",
        "  pass\n",
        "\n",
        "else:\n",
        "  print('ksv')"
      ],
      "metadata": {
        "colab": {
          "base_uri": "https://localhost:8080/"
        },
        "id": "lyRBYlLD3TUi",
        "outputId": "11be442d-b5ed-489f-b03d-6812ef38f094"
      },
      "execution_count": null,
      "outputs": [
        {
          "output_type": "stream",
          "name": "stdout",
          "text": [
            "ksv\n"
          ]
        }
      ]
    },
    {
      "cell_type": "markdown",
      "source": [
        "# **WHILE LOOP**\n"
      ],
      "metadata": {
        "id": "iRSn_-Uu3z1o"
      }
    },
    {
      "cell_type": "code",
      "source": [
        "i = 1\n",
        "while i<5:\n",
        "  #print(i)\n",
        "  i += 1\n",
        "#while loop keeps on working till it's condition got FALSE. here i is actually less than 5 i.e. TRUE, so it's keep on working, the moment it gets FLASE, it will come out of loop\n",
        "\n",
        "  \n"
      ],
      "metadata": {
        "id": "DP9xuPOT38ma"
      },
      "execution_count": null,
      "outputs": []
    },
    {
      "cell_type": "markdown",
      "source": [
        "***Break***"
      ],
      "metadata": {
        "id": "3wCpDq8zMXtO"
      }
    },
    {
      "cell_type": "code",
      "source": [
        "#break\n",
        "i = 1\n",
        "while i < 5:\n",
        "  print(i)\n",
        "  if i == 3:\n",
        "    break\n",
        "  i += 1\n",
        "\n",
        "#OR\n",
        "print('***********')\n",
        "i = 5\n",
        "while i>1:\n",
        "  print(i)\n",
        "  break"
      ],
      "metadata": {
        "id": "nkQ4f8T-MaHK",
        "colab": {
          "base_uri": "https://localhost:8080/"
        },
        "outputId": "e6bddd44-742c-4cc5-cd26-017be9096aa6"
      },
      "execution_count": null,
      "outputs": [
        {
          "output_type": "stream",
          "name": "stdout",
          "text": [
            "1\n",
            "2\n",
            "3\n",
            "***********\n",
            "5\n"
          ]
        }
      ]
    },
    {
      "cell_type": "markdown",
      "source": [
        "***Continue***"
      ],
      "metadata": {
        "id": "n1jUge7lMalq"
      }
    },
    {
      "cell_type": "code",
      "source": [
        "i = 0\n",
        "while i < 6:\n",
        "  print(i)\n",
        "  i+=1  \n",
        "  if i == 3:\n",
        "    continue\n",
        "  print('hi')\n",
        "\n",
        "# Note that number 3 is missing in the result\n"
      ],
      "metadata": {
        "colab": {
          "base_uri": "https://localhost:8080/"
        },
        "id": "GDb0-JW4Mcmb",
        "outputId": "7f315731-aec4-4a67-e3e5-df76071a67c3"
      },
      "execution_count": null,
      "outputs": [
        {
          "output_type": "stream",
          "name": "stdout",
          "text": [
            "0\n",
            "hi\n",
            "1\n",
            "hi\n",
            "2\n",
            "3\n",
            "hi\n",
            "4\n",
            "hi\n",
            "5\n",
            "hi\n"
          ]
        }
      ]
    },
    {
      "cell_type": "code",
      "source": [
        "x = 5\n",
        "if x == 7:\n",
        "  print(x)\n",
        "elif:\n",
        "  "
      ],
      "metadata": {
        "id": "mC2Rej1JNudf"
      },
      "execution_count": null,
      "outputs": []
    },
    {
      "cell_type": "markdown",
      "source": [
        "***ELSE in While***"
      ],
      "metadata": {
        "id": "Z_J8CLUjQx-i"
      }
    },
    {
      "cell_type": "code",
      "source": [
        "#when WHILE is true, its keep on working, when its false, it comes out of loop, and there we can use ELSE\n",
        "i = 6\n",
        "while i>1:\n",
        "  print(i)\n",
        "  i-=1\n",
        "else:\n",
        "  print('no no')"
      ],
      "metadata": {
        "colab": {
          "base_uri": "https://localhost:8080/"
        },
        "id": "Qi1JG1Y8Q0SL",
        "outputId": "c8336332-3a0c-47cc-afb3-37240048bcdd"
      },
      "execution_count": null,
      "outputs": [
        {
          "output_type": "stream",
          "name": "stdout",
          "text": [
            "6\n",
            "5\n",
            "4\n",
            "3\n",
            "2\n",
            "no no\n"
          ]
        }
      ]
    },
    {
      "cell_type": "markdown",
      "source": [
        "# **FOR LOOP**"
      ],
      "metadata": {
        "id": "YLjDnFdMRjg8"
      }
    },
    {
      "cell_type": "code",
      "source": [
        "s = 'shubham'\n",
        "for x in range(0, len(s), 2):\n",
        "  print(s[x])"
      ],
      "metadata": {
        "colab": {
          "base_uri": "https://localhost:8080/"
        },
        "id": "3SWe6SQoRLJa",
        "outputId": "88165cf7-cc1f-42ea-fcad-b49c42af5429"
      },
      "execution_count": null,
      "outputs": [
        {
          "output_type": "stream",
          "name": "stdout",
          "text": [
            "s\n",
            "u\n",
            "h\n",
            "m\n"
          ]
        }
      ]
    },
    {
      "cell_type": "code",
      "source": [
        "l1 = ['a', 'b', 'c']\n",
        "for x in l1:\n",
        "  \n",
        "  if x == 'b':\n",
        "    continue\n",
        "  print(x)\n"
      ],
      "metadata": {
        "colab": {
          "base_uri": "https://localhost:8080/"
        },
        "id": "g6QN1gWQ2Zpi",
        "outputId": "8c5e4d18-8e65-470a-c53e-17c8aca40718"
      },
      "execution_count": null,
      "outputs": [
        {
          "output_type": "stream",
          "name": "stdout",
          "text": [
            "a\n",
            "c\n"
          ]
        }
      ]
    },
    {
      "cell_type": "code",
      "source": [
        "for x in range(1,5):\n",
        "  for y in range(11,15):\n",
        "    print(x,y)\n"
      ],
      "metadata": {
        "colab": {
          "base_uri": "https://localhost:8080/"
        },
        "id": "q3R8qhmX3NEi",
        "outputId": "b9be91b4-9afe-470d-cbbc-4d89f424f12a"
      },
      "execution_count": null,
      "outputs": [
        {
          "output_type": "stream",
          "name": "stdout",
          "text": [
            "1 11\n",
            "1 12\n",
            "1 13\n",
            "1 14\n",
            "2 11\n",
            "2 12\n",
            "2 13\n",
            "2 14\n",
            "3 11\n",
            "3 12\n",
            "3 13\n",
            "3 14\n",
            "4 11\n",
            "4 12\n",
            "4 13\n",
            "4 14\n"
          ]
        }
      ]
    },
    {
      "cell_type": "code",
      "source": [
        "#pass: if loop is empty, this helps to avoid error\n",
        "for x in [1,2]:\n",
        "  pass\n",
        "print('ff')"
      ],
      "metadata": {
        "colab": {
          "base_uri": "https://localhost:8080/"
        },
        "id": "w6x-3M7s5Ocu",
        "outputId": "f6693baa-4657-442c-f563-32fcfb341ff6"
      },
      "execution_count": null,
      "outputs": [
        {
          "output_type": "stream",
          "name": "stdout",
          "text": [
            "ff\n"
          ]
        }
      ]
    },
    {
      "cell_type": "code",
      "source": [
        "for x in range(0,3):\n",
        "  for y in range(0,x+1):\n",
        "    print('* ',end='')\n",
        "  print('')"
      ],
      "metadata": {
        "colab": {
          "base_uri": "https://localhost:8080/"
        },
        "id": "MOdnFXin6CAV",
        "outputId": "ba3b92b9-1a20-4723-8c22-db61c05deb07"
      },
      "execution_count": null,
      "outputs": [
        {
          "output_type": "stream",
          "name": "stdout",
          "text": [
            "* \n",
            "* * \n",
            "* * * \n"
          ]
        }
      ]
    },
    {
      "cell_type": "code",
      "source": [
        "k = 3\n",
        "for x in range(0,3): #rows\n",
        "  for y in range(0,k): #columns\n",
        "    print('* ', end='')\n",
        "  print()\n",
        "  k = k-1\n",
        "    "
      ],
      "metadata": {
        "colab": {
          "base_uri": "https://localhost:8080/"
        },
        "id": "5aimETzmSh-5",
        "outputId": "fb1721e9-21d9-40bb-a9f0-7a6e24ec7151"
      },
      "execution_count": null,
      "outputs": [
        {
          "output_type": "stream",
          "name": "stdout",
          "text": [
            "* * * \n",
            "* * \n",
            "* \n"
          ]
        }
      ]
    },
    {
      "cell_type": "code",
      "source": [
        "for x in range(0,3):\n",
        "  print('*', end='') "
      ],
      "metadata": {
        "colab": {
          "base_uri": "https://localhost:8080/"
        },
        "id": "JX8vGKGh9WAK",
        "outputId": "0b5e7575-c19a-4638-87b8-77fb56687e15"
      },
      "execution_count": null,
      "outputs": [
        {
          "output_type": "stream",
          "name": "stdout",
          "text": [
            "***"
          ]
        }
      ]
    },
    {
      "cell_type": "markdown",
      "source": [
        "# FUNCTIONS"
      ],
      "metadata": {
        "id": "cyQQd7q2Uxb9"
      }
    },
    {
      "cell_type": "code",
      "source": [
        "#simple\n",
        "def myfun():\n",
        "  print('hi')\n",
        "myfun()"
      ],
      "metadata": {
        "id": "PHd1Mn-pU1hF",
        "colab": {
          "base_uri": "https://localhost:8080/"
        },
        "outputId": "422e1cfc-5efa-45b0-9232-6f8aeb9c750c"
      },
      "execution_count": null,
      "outputs": [
        {
          "output_type": "stream",
          "name": "stdout",
          "text": [
            "hi\n"
          ]
        }
      ]
    },
    {
      "cell_type": "markdown",
      "source": [
        "Arguments"
      ],
      "metadata": {
        "id": "8YhGdPCXIoHJ"
      }
    },
    {
      "cell_type": "code",
      "source": [
        "#arguments\n",
        "def myfun(name):\n",
        "  print('Hello',name) #if we add + insted of , space will not be there!\n",
        "myfun('shubham')\n",
        "myfun('ram')"
      ],
      "metadata": {
        "colab": {
          "base_uri": "https://localhost:8080/"
        },
        "id": "4CEvesqrIFi1",
        "outputId": "ecf97801-28bd-49b1-8d4e-ec700e7c7e48"
      },
      "execution_count": null,
      "outputs": [
        {
          "output_type": "stream",
          "name": "stdout",
          "text": [
            "Hello shubham\n",
            "Hello ram\n"
          ]
        }
      ]
    },
    {
      "cell_type": "code",
      "source": [
        "def myfun(name, age):\n",
        "  print('Hello',name) #if we add + insted of , space will not be there!\n",
        "myfun('shubham') #error, if fun expects 2 argumnts it should get 2. not 1 not 3\n",
        "myfun('ram', 21)"
      ],
      "metadata": {
        "colab": {
          "base_uri": "https://localhost:8080/"
        },
        "id": "JlzSA2SXImYw",
        "outputId": "6f1072b4-d2fb-4d56-cb5f-129a961bfa96"
      },
      "execution_count": null,
      "outputs": [
        {
          "output_type": "stream",
          "name": "stdout",
          "text": [
            "Hello shubham\n",
            "Hello ram\n"
          ]
        }
      ]
    },
    {
      "cell_type": "code",
      "source": [
        "#if we dont know how many args will gonna pass add * before\n",
        "\n",
        "def myf(*name):\n",
        "  print('Names are: ',name) #o/p: ('ram', 'sita'), it will return as TUPLE\n",
        "  print('1st name is:',name[0]) #we can also access each item\n",
        "myf('ram', 'sita')\n",
        " \n",
        "\n"
      ],
      "metadata": {
        "colab": {
          "base_uri": "https://localhost:8080/"
        },
        "id": "3w13O7GsJOvP",
        "outputId": "7f73ad11-bde3-47d3-a7f9-60e23abc96f4"
      },
      "execution_count": null,
      "outputs": [
        {
          "output_type": "stream",
          "name": "stdout",
          "text": [
            "Names are:  ('ram', 'sita')\n",
            "1st name is: ram\n"
          ]
        }
      ]
    },
    {
      "cell_type": "code",
      "source": [
        "#args as 'key=value' pair\n",
        "def myf(name1, name2, name3):\n",
        "  print('name of 1st child is', name1)\n",
        "myf(name1 = ['ram','kk'], name2 = 'sita', name3 = 'shuv') #key name has to same as args to be passed\n",
        "\n",
        "#if we dont know how many kwargs will gonna pass, add ** before\n",
        "def myf2(**names):\n",
        "  print('all names are', names) #it will return as dict.\n",
        "  print('fname is', names['fname']) #it is dic. so we have to call key, place as int not applicable\n",
        "myf2(fname = 'shubham', lname = 'thakur')"
      ],
      "metadata": {
        "colab": {
          "base_uri": "https://localhost:8080/"
        },
        "id": "sx6zEZahKEde",
        "outputId": "1e943fb4-4e90-4430-a088-5376230bd5f8"
      },
      "execution_count": null,
      "outputs": [
        {
          "output_type": "stream",
          "name": "stdout",
          "text": [
            "name of 1st child is ['ram', 'kk']\n",
            "all names are {'fname': 'shubham', 'lname': 'thakur'}\n",
            "fname is shubham\n"
          ]
        }
      ]
    },
    {
      "cell_type": "code",
      "source": [
        "#default paramenter value\n",
        "def fun(country = 'India'):\n",
        "  print('im from', country)\n",
        "fun()\n",
        "fun('US')"
      ],
      "metadata": {
        "colab": {
          "base_uri": "https://localhost:8080/"
        },
        "id": "E-Tn6mjfMhNc",
        "outputId": "e8831df2-124e-46de-bce6-7b0ec41b7522"
      },
      "execution_count": null,
      "outputs": [
        {
          "output_type": "stream",
          "name": "stdout",
          "text": [
            "im from India\n",
            "im from US\n"
          ]
        }
      ]
    },
    {
      "cell_type": "code",
      "source": [
        "#passing as list as arg(we can pass tuple, dict, anyrhing...)\n",
        "\n",
        "#CASE 1:\n",
        "fruits = ['apple', 'kiwi', 'cherry']\n",
        "def fun(x):\n",
        "  print(x, type(x))\n",
        "fun(fruits)\n",
        "#o/p: ['apple', 'kiwi', 'cherry'] <class 'list'>\n",
        "\n",
        "\n",
        "#CASE 2:\n",
        "fruits = ['apple', 'kiwi', 'cherry']\n",
        "def fun(*x):\n",
        "  print(x, type(x))\n",
        "fun(fruits)\n",
        "#o/p: (['apple', 'kiwi', 'cherry'],) <class 'tuple'>\n",
        "\n",
        "\n",
        "#CASE 3:\n",
        "fruits = ['apple', 'kiwi', 'cherry']\n",
        "def fun(*x):\n",
        "  for i in x:\n",
        "    print(i, type(i))\n",
        "fun(fruits)\n",
        "#o/p: ['apple', 'kiwi', 'cherry'] <class 'list'>\n",
        "\n",
        "\n",
        "#CASE 4:\n",
        "fruits = ['apple', 'kiwi', 'cherry']\n",
        "def fun(x):\n",
        "  for i in x:\n",
        "    print(i, type(i))\n",
        "fun(fruits)\n",
        "#o/p: apple <class 'str'>\n",
        "#kiwi <class 'str'>\n",
        "#cherry <class 'str'>\n",
        "\n",
        "\n",
        "\n",
        "\n",
        "#if we do like this: def fun(*food) then o/p: ['apple', 'kiwi', 'cherry'] <class 'list'>\n"
      ],
      "metadata": {
        "colab": {
          "base_uri": "https://localhost:8080/"
        },
        "id": "beJ8V84kNlFG",
        "outputId": "178f86ea-e9f9-485e-d4db-ad55a398283a"
      },
      "execution_count": null,
      "outputs": [
        {
          "output_type": "stream",
          "name": "stdout",
          "text": [
            "['apple', 'kiwi', 'cherry'] <class 'list'>\n",
            "(['apple', 'kiwi', 'cherry'],) <class 'tuple'>\n",
            "['apple', 'kiwi', 'cherry'] <class 'list'>\n",
            "apple <class 'str'>\n",
            "kiwi <class 'str'>\n",
            "cherry <class 'str'>\n"
          ]
        }
      ]
    },
    {
      "cell_type": "code",
      "source": [
        "#return\n",
        "def myf(x):\n",
        "  print('hu')\n",
        "  return x*5\n",
        "myf(5)\n",
        "myf(6)\n",
        "#only the last called fun val will be returned"
      ],
      "metadata": {
        "colab": {
          "base_uri": "https://localhost:8080/"
        },
        "id": "dzQ3CqFFQCkj",
        "outputId": "2ea4e3fd-e382-43cd-c585-3af01d698291"
      },
      "execution_count": null,
      "outputs": [
        {
          "output_type": "stream",
          "name": "stdout",
          "text": [
            "hu\n",
            "hu\n"
          ]
        },
        {
          "output_type": "execute_result",
          "data": {
            "text/plain": [
              "30"
            ]
          },
          "metadata": {},
          "execution_count": 53
        }
      ]
    },
    {
      "cell_type": "code",
      "source": [
        "#pass: if fun is empty use this to avoid error\n",
        "def f2():\n",
        "  pass\n",
        "  print('hu')\n",
        "print('hellll')"
      ],
      "metadata": {
        "colab": {
          "base_uri": "https://localhost:8080/"
        },
        "id": "yLmUS5LCRKOQ",
        "outputId": "34329504-3429-45aa-b4fd-010af75b5040"
      },
      "execution_count": null,
      "outputs": [
        {
          "output_type": "stream",
          "name": "stdout",
          "text": [
            "hellll\n"
          ]
        }
      ]
    },
    {
      "cell_type": "code",
      "source": [
        "#recursion\n",
        "#factorial #didnt get it!\n",
        "def fact(x):\n",
        "  if x > 0:\n",
        "    res = (x+fact(x-1))\n",
        "    print(res)\n",
        "    return res\n",
        "  else:\n",
        "    res = 1\n",
        "    print(res)\n",
        "\n",
        "    return res\n",
        "     \n",
        "n = int(input('Entetr value of n: '))\n",
        "print(n, type(n))\n",
        "print('fact of num is:'  )\n",
        "fact(n)"
      ],
      "metadata": {
        "colab": {
          "base_uri": "https://localhost:8080/"
        },
        "id": "T9DmsqAydAEo",
        "outputId": "9bfc1301-f9ad-43b8-f13a-20165c2439c4"
      },
      "execution_count": null,
      "outputs": [
        {
          "output_type": "stream",
          "name": "stdout",
          "text": [
            "Entetr value of n: 3\n",
            "3 <class 'int'>\n",
            "fact of num is:\n",
            "1\n",
            "2\n",
            "4\n",
            "7\n"
          ]
        },
        {
          "output_type": "execute_result",
          "data": {
            "text/plain": [
              "7"
            ]
          },
          "metadata": {},
          "execution_count": 37
        }
      ]
    },
    {
      "cell_type": "code",
      "source": [
        ""
      ],
      "metadata": {
        "id": "P1FgLo6xhpa0"
      },
      "execution_count": null,
      "outputs": []
    },
    {
      "cell_type": "code",
      "source": [
        "x = 3\n",
        "if x>1 and x<6:\n",
        "  print('hi')\n",
        "else:\n",
        "  print('hwllo')"
      ],
      "metadata": {
        "colab": {
          "base_uri": "https://localhost:8080/"
        },
        "id": "sSg9FTaNfLIJ",
        "outputId": "1d528b43-8e33-47f3-ce88-babeaae95330"
      },
      "execution_count": null,
      "outputs": [
        {
          "output_type": "stream",
          "name": "stdout",
          "text": [
            "hi\n"
          ]
        }
      ]
    },
    {
      "cell_type": "markdown",
      "source": [
        "# LAMBDA/Anonymous FUNCTION"
      ],
      "metadata": {
        "id": "rDGXRasYht9S"
      }
    },
    {
      "cell_type": "code",
      "source": [
        "#take any no of arguments but have only one expression\n",
        "# lambda arguments : expression\n",
        "#why we use? Say you have a function definition that takes one argument,\n",
        "# and that argument will be multiplied with an unknown number:\n",
        "\n",
        "\n",
        "\n",
        "x = lambda a : a + 10\n",
        "print(x(10))\n",
        "\n",
        "x = lambda a, b : a+b\n",
        "print(x(10,20))"
      ],
      "metadata": {
        "colab": {
          "base_uri": "https://localhost:8080/"
        },
        "id": "fxup4v7uh4bQ",
        "outputId": "e3d0c986-0c0d-4978-e8bd-d84a6e627fac"
      },
      "execution_count": null,
      "outputs": [
        {
          "output_type": "stream",
          "name": "stdout",
          "text": [
            "20\n",
            "30\n"
          ]
        }
      ]
    },
    {
      "cell_type": "code",
      "source": [
        "def f1(n):\n",
        "  return lambda a : a+n\n",
        "\n",
        "val1 = f1(10)\n",
        "val2 = f1(20)\n",
        "print(val1(500))\n",
        "print(val2(500))"
      ],
      "metadata": {
        "colab": {
          "base_uri": "https://localhost:8080/"
        },
        "id": "UiO7n6gWlkGs",
        "outputId": "4da2bdb7-ff8e-4070-e3ca-08dea028bcdc"
      },
      "execution_count": null,
      "outputs": [
        {
          "output_type": "stream",
          "name": "stdout",
          "text": [
            "510\n",
            "520\n"
          ]
        }
      ]
    },
    {
      "cell_type": "markdown",
      "source": [
        "# ARRAYS"
      ],
      "metadata": {
        "id": "TTyDYFz6mW7s"
      }
    },
    {
      "cell_type": "code",
      "source": [
        "#Python doesn't have built-in arrays so, LISTS are used as ARRAYS, or use numpy to access arrays\n"
      ],
      "metadata": {
        "id": "DMWz8jQkma2c"
      },
      "execution_count": null,
      "outputs": []
    },
    {
      "cell_type": "markdown",
      "source": [
        "# CLASS & OBJETCS"
      ],
      "metadata": {
        "id": "RB85IEpYmtuC"
      }
    },
    {
      "cell_type": "code",
      "source": [
        "class P1: #if we use p1 still it will  work!\n",
        "  x = 55\n",
        "obj1 = P1()\n",
        "print(obj1.x)"
      ],
      "metadata": {
        "colab": {
          "base_uri": "https://localhost:8080/"
        },
        "id": "FhdvklWOmyQl",
        "outputId": "75a0280f-bc02-43d9-9a42-3262b814cc81"
      },
      "execution_count": null,
      "outputs": [
        {
          "output_type": "stream",
          "name": "stdout",
          "text": [
            "55\n"
          ]
        }
      ]
    },
    {
      "cell_type": "code",
      "source": [
        "class P1:\n",
        "  name = '101'\n",
        "  def __init__(self, name, age):\n",
        "    name = '102'\n",
        "    self.name = name\n",
        "    self.age = age\n",
        "    name = '103'\n",
        "  name = '104'\n",
        "  \n",
        "obj1 = P1('ram',99)\n",
        "print(obj1.name) #102, if we remove name=102 then: ram\n",
        "\n",
        "obj1.name = 'jjjjjjj' #modify also possible\n",
        "print(obj1.name)\n",
        "\n",
        "del obj1.name\n",
        "print(obj1.name) #104 if we remove name=104 then: 101, if we remove this also then error\n",
        "\n",
        "#del obj1 #delte object\n",
        "#pass:to pass if class is empty\n",
        "\n"
      ],
      "metadata": {
        "colab": {
          "base_uri": "https://localhost:8080/"
        },
        "id": "HOWfrxBt-b4a",
        "outputId": "fecbeeb0-e741-4b56-e511-a24875b75d98"
      },
      "execution_count": null,
      "outputs": [
        {
          "output_type": "stream",
          "name": "stdout",
          "text": [
            "102\n",
            "jjjjjjj\n",
            "104\n"
          ]
        }
      ]
    },
    {
      "cell_type": "code",
      "source": [
        "#self: no need to use self as keyword, we can use any name, but has to be 1st argument\n",
        "\n",
        "class P1:\n",
        "  def __init__(x, name, age):\n",
        "    x.name = name\n",
        "    x.age = age\n",
        "  def f1(y):\n",
        "    print(y.name)\n",
        "\n",
        "obj1 = P1('ram', 33)\n",
        "obj1.f1()"
      ],
      "metadata": {
        "colab": {
          "base_uri": "https://localhost:8080/"
        },
        "id": "OQZfK3iSC1BH",
        "outputId": "634ac0b7-d901-4a10-b3a3-2f91074fbbdd"
      },
      "execution_count": null,
      "outputs": [
        {
          "output_type": "stream",
          "name": "stdout",
          "text": [
            "ram\n"
          ]
        }
      ]
    },
    {
      "cell_type": "markdown",
      "source": [
        "Inheritance"
      ],
      "metadata": {
        "id": "7L0S_55hGd3P"
      }
    },
    {
      "cell_type": "code",
      "source": [
        "class P1:\n",
        "  x = 6\n",
        "\n",
        "class P2(P1):\n",
        "  pass\n",
        "\n",
        "o1 = P2()\n",
        "print(o1.x)"
      ],
      "metadata": {
        "colab": {
          "base_uri": "https://localhost:8080/"
        },
        "id": "zz2Pb1WnGgC8",
        "outputId": "3d2b4635-fcab-4a8d-93a9-fd280e34c088"
      },
      "execution_count": null,
      "outputs": [
        {
          "output_type": "stream",
          "name": "stdout",
          "text": [
            "6\n"
          ]
        }
      ]
    },
    {
      "cell_type": "code",
      "source": [
        "class P1:\n",
        "  def __init__(self, name, age):\n",
        "    self.name = name\n",
        "    self.age = age\n",
        "\n",
        "  def f1(self):\n",
        "    print(self.name)\n",
        "\n",
        "class P2(P1):\n",
        "  pass\n",
        "\n",
        "o1 = P2('ram', 54)\n",
        "o1.f1()"
      ],
      "metadata": {
        "colab": {
          "base_uri": "https://localhost:8080/"
        },
        "id": "JZ2zeROuJ7PZ",
        "outputId": "802ab1a9-d695-4d98-badd-79c346a21f15"
      },
      "execution_count": null,
      "outputs": [
        {
          "output_type": "stream",
          "name": "stdout",
          "text": [
            "ram\n"
          ]
        }
      ]
    },
    {
      "cell_type": "code",
      "source": [
        "#if we add __init__ to child class, it will override parent class __init__ function\n",
        "#so we have to call parent class init\n",
        "class P1:\n",
        "  def __init__(self, name, age):\n",
        "    self.name = name\n",
        "    self.age = age\n",
        "\n",
        "  def f1(self):\n",
        "    print(self.name)\n",
        "  \n",
        "  def f3(self):\n",
        "    print('kbc')\n",
        "\n",
        "class P2(P1):\n",
        "  def __init__(self, name, age, year):\n",
        "    self.year = year\n",
        "    super().__init__(name, age) #or we can use SUPER too: super().__init__(name, age) to inherrit everythoing\n",
        "  \n",
        "  def f3(self): #why we have to use SELF here, i dont know!\n",
        "    print('abc')\n",
        "\n",
        "o1 = P2('ram', 3, 2019)\n",
        "o2 = P1('shu', 99)\n",
        "o1.f1()\n",
        "o1.year\n",
        "o1.f3()\n",
        "o2.f3()\n",
        "o2.name\n"
      ],
      "metadata": {
        "colab": {
          "base_uri": "https://localhost:8080/",
          "height": 87
        },
        "id": "BV0HBIyKLifD",
        "outputId": "d51628ca-3360-47fa-a16d-89eee6f058d5"
      },
      "execution_count": null,
      "outputs": [
        {
          "output_type": "stream",
          "name": "stdout",
          "text": [
            "ram\n",
            "abc\n",
            "kbc\n"
          ]
        },
        {
          "output_type": "execute_result",
          "data": {
            "text/plain": [
              "'shu'"
            ],
            "application/vnd.google.colaboratory.intrinsic+json": {
              "type": "string"
            }
          },
          "metadata": {},
          "execution_count": 154
        }
      ]
    },
    {
      "cell_type": "markdown",
      "source": [
        "# ITERATORS"
      ],
      "metadata": {
        "id": "QCkadrCqPIpK"
      }
    },
    {
      "cell_type": "code",
      "source": [
        "t1 = ('a', 'b', 'c', 'd')\n",
        "it = iter(t1)\n",
        "\n",
        "for x in range(0, len(t1)):\n",
        "  print(next(it), type( next(it)))\n"
      ],
      "metadata": {
        "colab": {
          "base_uri": "https://localhost:8080/"
        },
        "id": "eKSBot2kPMFz",
        "outputId": "40eb4d7b-e186-4bef-fe84-f05d758426fc"
      },
      "execution_count": null,
      "outputs": [
        {
          "output_type": "stream",
          "name": "stdout",
          "text": [
            "a <class 'str'>\n"
          ]
        }
      ]
    },
    {
      "cell_type": "code",
      "source": [
        "for x in range(0,10):\n",
        "  print('Power of ',x, ' is:', x*x)"
      ],
      "metadata": {
        "colab": {
          "base_uri": "https://localhost:8080/"
        },
        "id": "WRgy1lbVSzcB",
        "outputId": "82299651-23de-42e1-db43-7155fac206f9"
      },
      "execution_count": null,
      "outputs": [
        {
          "output_type": "stream",
          "name": "stdout",
          "text": [
            "Power of  0  is: 0\n",
            "Power of  1  is: 1\n",
            "Power of  2  is: 4\n",
            "Power of  3  is: 9\n",
            "Power of  4  is: 16\n",
            "Power of  5  is: 25\n",
            "Power of  6  is: 36\n",
            "Power of  7  is: 49\n",
            "Power of  8  is: 64\n",
            "Power of  9  is: 81\n"
          ]
        }
      ]
    },
    {
      "cell_type": "code",
      "source": [
        "#interator on class i didn;t get completly!"
      ],
      "metadata": {
        "id": "LMy6zeRYUYRw"
      },
      "execution_count": null,
      "outputs": []
    },
    {
      "cell_type": "markdown",
      "source": [
        "\n",
        "# MODULE"
      ],
      "metadata": {
        "id": "ImiJinNdUiR0"
      }
    },
    {
      "cell_type": "code",
      "source": [
        "person1 = {\n",
        "  \"name\": \"John\",\n",
        "  \"age\": 36,\n",
        "  \"country\": \"Norway\"\n",
        "}\n",
        "def greeting(name):\n",
        "  print(\"Hello, \" + name)\n",
        "#Now Save  code in a file named mymodule.py\n",
        "\n",
        "import mymodule   #or write like: import mymodule as md\n",
        "mymodule.greeting(\"Jonathan\")\n",
        "a = mymodule.person1[\"age\"]\n",
        "print(a)"
      ],
      "metadata": {
        "id": "HGYKu4RRU-Yg"
      },
      "execution_count": null,
      "outputs": []
    },
    {
      "cell_type": "code",
      "source": [
        "#Built-in modules\n",
        "\n",
        "import platform\n",
        "\n",
        "x = platform.system()\n",
        "y = dir(platform) #we can also use this on our own created modules\n",
        "print(x)\n",
        "print(y)"
      ],
      "metadata": {
        "colab": {
          "base_uri": "https://localhost:8080/"
        },
        "id": "dDKkqvduT4JG",
        "outputId": "0949a5b3-b95c-488f-a8e3-b2d19ca7e620"
      },
      "execution_count": null,
      "outputs": [
        {
          "output_type": "stream",
          "name": "stdout",
          "text": [
            "Linux\n",
            "['DEV_NULL', '_UNIXCONFDIR', '_WIN32_CLIENT_RELEASES', '_WIN32_SERVER_RELEASES', '__builtins__', '__cached__', '__copyright__', '__doc__', '__file__', '__loader__', '__name__', '__package__', '__spec__', '__version__', '__warningregistry__', '_codename_file_re', '_comparable_version', '_component_re', '_default_architecture', '_dist_try_harder', '_distributor_id_file_re', '_follow_symlinks', '_ironpython26_sys_version_parser', '_ironpython_sys_version_parser', '_java_getprop', '_libc_search', '_linux_distribution', '_lsb_release_version', '_mac_ver_xml', '_node', '_norm_version', '_parse_release_file', '_platform', '_platform_cache', '_pypy_sys_version_parser', '_release_file_re', '_release_filename', '_release_version', '_supported_dists', '_sys_version', '_sys_version_cache', '_sys_version_parser', '_syscmd_file', '_syscmd_uname', '_syscmd_ver', '_uname_cache', '_ver_output', '_ver_stages', 'architecture', 'collections', 'dist', 'java_ver', 'libc_ver', 'linux_distribution', 'mac_ver', 'machine', 'node', 'os', 'platform', 'popen', 'processor', 'python_branch', 'python_build', 'python_compiler', 'python_implementation', 'python_revision', 'python_version', 'python_version_tuple', 're', 'release', 'subprocess', 'sys', 'system', 'system_alias', 'uname', 'uname_result', 'version', 'warnings', 'win32_ver']\n"
          ]
        }
      ]
    },
    {
      "cell_type": "code",
      "source": [
        "#Import only the person1 dictionary from the module:\n",
        "\n",
        "from mymodule import person1\n",
        "print (person1[\"age\"])\n",
        "#When importing using the from keyword, \n",
        "#do not use the module name when referring to elements in the module. \n",
        "#Example: person1[\"age\"], not mymodule.person1[\"age\"]\n",
        "\n"
      ],
      "metadata": {
        "id": "L6MuhzNhWEqd"
      },
      "execution_count": null,
      "outputs": []
    },
    {
      "cell_type": "markdown",
      "source": [
        "# DATE"
      ],
      "metadata": {
        "id": "FsxmeA9NW8rn"
      }
    },
    {
      "cell_type": "code",
      "source": [
        "#IMPORT\n",
        "import datetime as dt\n",
        "x = dt.datetime.now()\n",
        "print(x)\n",
        "print(x.year)\n",
        "print(x.strftime('%A'))\n",
        "print(x.strftime('%d')+':'+x.strftime('%m'))\n",
        "\n",
        "#pass our own arguments\n",
        "y = dt.datetime(2022, 2 , 15, 0, 0,0)\n",
        "print(y)"
      ],
      "metadata": {
        "colab": {
          "base_uri": "https://localhost:8080/"
        },
        "id": "_yFCLTkkXA4R",
        "outputId": "e358e6b3-5ff0-4c72-9765-913261a6f2c1"
      },
      "execution_count": null,
      "outputs": [
        {
          "output_type": "stream",
          "name": "stdout",
          "text": [
            "2022-05-20 12:12:23.289679\n",
            "2022\n",
            "Friday\n",
            "20:05\n",
            "2022-02-15 00:00:00\n"
          ]
        }
      ]
    },
    {
      "cell_type": "code",
      "source": [
        "#strftime() Methods: sooooo many\n",
        "#https://www.w3schools.com/python/python_datetime.asp\n"
      ],
      "metadata": {
        "id": "lGU8MbkyYkih"
      },
      "execution_count": null,
      "outputs": []
    },
    {
      "cell_type": "markdown",
      "source": [
        "# MATH"
      ],
      "metadata": {
        "id": "4VzqxDsjY45F"
      }
    },
    {
      "cell_type": "code",
      "source": [
        "#import\n",
        "import math as m\n",
        "print(min(1,2,55))\n",
        "print(max(1,2,55))\n",
        "print(abs(-1.3))\n",
        "print(pow(2,3)) #2*2*2\n",
        "print(m.sqrt(64))\n",
        "print(m.ceil(1.4)) #nearest high decimal: 2\n",
        "print(m.floor(1.4)) #nearest low decimal: 1\n",
        "print(m.pi) \n",
        "\n",
        "\n",
        "#soo much more...\n",
        "#https://www.w3schools.com/python/module_math.asp"
      ],
      "metadata": {
        "colab": {
          "base_uri": "https://localhost:8080/"
        },
        "id": "UgvMC_krY8jE",
        "outputId": "8b455f70-3b40-400c-e8e9-37398d635fb1"
      },
      "execution_count": null,
      "outputs": [
        {
          "output_type": "stream",
          "name": "stdout",
          "text": [
            "1\n",
            "55\n",
            "1.3\n",
            "8\n",
            "8.0\n",
            "2\n",
            "1\n",
            "3.141592653589793\n"
          ]
        }
      ]
    },
    {
      "cell_type": "markdown",
      "source": [
        "# RegEx"
      ],
      "metadata": {
        "id": "mi4DOGCHbD8w"
      }
    },
    {
      "cell_type": "code",
      "source": [
        "#A RegEx, or Regular Expression, is a sequence of characters that forms a search pattern.\n",
        "#RegEx can be used to check if a string contains the specified search pattern.\n",
        "\n",
        "#https://www.w3schools.com/python/python_regex.asp"
      ],
      "metadata": {
        "id": "LTisg-5RbHZE"
      },
      "execution_count": null,
      "outputs": []
    },
    {
      "cell_type": "markdown",
      "source": [
        "# TRY/CATCH"
      ],
      "metadata": {
        "id": "lbHczCcMdjB_"
      }
    },
    {
      "cell_type": "markdown",
      "source": [
        "\n",
        "*try: where error could occur\n",
        "except: where error handled\n",
        "else: if no error, here we will have msg or next step\n",
        "finally: runs everytime\n",
        "raise: keyword to raise our own exception*"
      ],
      "metadata": {
        "id": "D8m1LOTPdqto"
      }
    },
    {
      "cell_type": "code",
      "source": [
        "try:\n",
        "  print(2/0)\n",
        "except:\n",
        "  print('Somrthing wromg')\n",
        "else:\n",
        "  print('nothing wrong')\n",
        "finally:\n",
        "  print('hello')\n"
      ],
      "metadata": {
        "colab": {
          "base_uri": "https://localhost:8080/"
        },
        "id": "lWQPxI5Vdnn-",
        "outputId": "1ef94d04-ecb5-4b94-c7c5-535c35918d44"
      },
      "execution_count": null,
      "outputs": [
        {
          "output_type": "stream",
          "name": "stdout",
          "text": [
            "Somrthing wromg\n",
            "hello\n"
          ]
        }
      ]
    },
    {
      "cell_type": "code",
      "source": [
        "#raise\n",
        "x = 0\n",
        "if x>0:\n",
        "  print(4/x)\n",
        "else:\n",
        "  raise Exception('somthibg wrong')\n",
        "\n"
      ],
      "metadata": {
        "colab": {
          "base_uri": "https://localhost:8080/",
          "height": 217
        },
        "id": "9EtioDrve99J",
        "outputId": "f5fc5409-91c1-40ca-83c0-d42a2e3c45b6"
      },
      "execution_count": null,
      "outputs": [
        {
          "output_type": "error",
          "ename": "Exception",
          "evalue": "ignored",
          "traceback": [
            "\u001b[0;31m---------------------------------------------------------------------------\u001b[0m",
            "\u001b[0;31mException\u001b[0m                                 Traceback (most recent call last)",
            "\u001b[0;32m<ipython-input-203-1accccb9b772>\u001b[0m in \u001b[0;36m<module>\u001b[0;34m()\u001b[0m\n\u001b[1;32m      3\u001b[0m   \u001b[0mprint\u001b[0m\u001b[0;34m(\u001b[0m\u001b[0;36m4\u001b[0m\u001b[0;34m/\u001b[0m\u001b[0mx\u001b[0m\u001b[0;34m)\u001b[0m\u001b[0;34m\u001b[0m\u001b[0;34m\u001b[0m\u001b[0m\n\u001b[1;32m      4\u001b[0m \u001b[0;32melse\u001b[0m\u001b[0;34m:\u001b[0m\u001b[0;34m\u001b[0m\u001b[0;34m\u001b[0m\u001b[0m\n\u001b[0;32m----> 5\u001b[0;31m   \u001b[0;32mraise\u001b[0m \u001b[0mException\u001b[0m\u001b[0;34m(\u001b[0m\u001b[0;34m'somthibg wrong'\u001b[0m\u001b[0;34m)\u001b[0m\u001b[0;34m\u001b[0m\u001b[0;34m\u001b[0m\u001b[0m\n\u001b[0m\u001b[1;32m      6\u001b[0m \u001b[0;34m\u001b[0m\u001b[0m\n",
            "\u001b[0;31mException\u001b[0m: somthibg wrong"
          ]
        }
      ]
    },
    {
      "cell_type": "markdown",
      "source": [
        "# FILE HANDLING"
      ],
      "metadata": {
        "id": "Ev8yDtPXgW1j"
      }
    },
    {
      "cell_type": "code",
      "source": [
        "#https://www.w3schools.com/python/python_file_handling.asp"
      ],
      "metadata": {
        "id": "fMvuf-xSgZxl"
      },
      "execution_count": null,
      "outputs": []
    }
  ]
}